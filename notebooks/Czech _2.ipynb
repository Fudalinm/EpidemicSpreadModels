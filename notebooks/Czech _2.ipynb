{
 "cells": [
  {
   "cell_type": "code",
   "execution_count": 45,
   "metadata": {},
   "outputs": [],
   "source": [
    "import sys\n",
    "sys.path.insert(1, '../model')\n",
    "import model\n",
    "import linear_model"
   ]
  },
  {
   "cell_type": "code",
   "execution_count": 2,
   "metadata": {},
   "outputs": [],
   "source": [
    "import numpy as np\n",
    "import matplotlib.pyplot as plt\n",
    "import matplotlib.cm as cm\n",
    "from matplotlib.ticker import ScalarFormatter\n",
    "import optuna\n",
    "optuna.logging.disable_default_handler()\n",
    "import pandas as pd\n",
    "pd.plotting.register_matplotlib_converters()\n",
    "import seaborn as sns\n",
    "from scipy.integrate import solve_ivp"
   ]
  },
  {
   "cell_type": "code",
   "execution_count": 3,
   "metadata": {},
   "outputs": [],
   "source": [
    "raw = pd.read_csv(\"../data/covid_19_data.csv\")"
   ]
  },
  {
   "cell_type": "code",
   "execution_count": 4,
   "metadata": {},
   "outputs": [
    {
     "name": "stdout",
     "output_type": "stream",
     "text": [
      "10650000\n"
     ]
    }
   ],
   "source": [
    "#load population dict\n",
    "population_df = pd.read_csv(\"../data/locations_population.csv\")\n",
    "population_country = population_df[population_df['Country.Region'] == \"Czechia\"].iloc[0]['Population']\n",
    "population_country = int(population_country)\n",
    "print(population_country) "
   ]
  },
  {
   "cell_type": "code",
   "execution_count": 5,
   "metadata": {},
   "outputs": [
    {
     "data": {
      "text/html": [
       "<div>\n",
       "<style scoped>\n",
       "    .dataframe tbody tr th:only-of-type {\n",
       "        vertical-align: middle;\n",
       "    }\n",
       "\n",
       "    .dataframe tbody tr th {\n",
       "        vertical-align: top;\n",
       "    }\n",
       "\n",
       "    .dataframe thead th {\n",
       "        text-align: right;\n",
       "    }\n",
       "</style>\n",
       "<table border=\"1\" class=\"dataframe\">\n",
       "  <thead>\n",
       "    <tr style=\"text-align: right;\">\n",
       "      <th></th>\n",
       "      <th>SNo</th>\n",
       "      <th>ObservationDate</th>\n",
       "      <th>Province/State</th>\n",
       "      <th>Country/Region</th>\n",
       "      <th>Last Update</th>\n",
       "      <th>Confirmed</th>\n",
       "      <th>Deaths</th>\n",
       "      <th>Recovered</th>\n",
       "    </tr>\n",
       "  </thead>\n",
       "  <tbody>\n",
       "    <tr>\n",
       "      <th>0</th>\n",
       "      <td>1</td>\n",
       "      <td>01/22/2020</td>\n",
       "      <td>Anhui</td>\n",
       "      <td>Mainland China</td>\n",
       "      <td>1/22/2020 17:00</td>\n",
       "      <td>1.0</td>\n",
       "      <td>0.0</td>\n",
       "      <td>0.0</td>\n",
       "    </tr>\n",
       "    <tr>\n",
       "      <th>1</th>\n",
       "      <td>2</td>\n",
       "      <td>01/22/2020</td>\n",
       "      <td>Beijing</td>\n",
       "      <td>Mainland China</td>\n",
       "      <td>1/22/2020 17:00</td>\n",
       "      <td>14.0</td>\n",
       "      <td>0.0</td>\n",
       "      <td>0.0</td>\n",
       "    </tr>\n",
       "    <tr>\n",
       "      <th>2</th>\n",
       "      <td>3</td>\n",
       "      <td>01/22/2020</td>\n",
       "      <td>Chongqing</td>\n",
       "      <td>Mainland China</td>\n",
       "      <td>1/22/2020 17:00</td>\n",
       "      <td>6.0</td>\n",
       "      <td>0.0</td>\n",
       "      <td>0.0</td>\n",
       "    </tr>\n",
       "    <tr>\n",
       "      <th>3</th>\n",
       "      <td>4</td>\n",
       "      <td>01/22/2020</td>\n",
       "      <td>Fujian</td>\n",
       "      <td>Mainland China</td>\n",
       "      <td>1/22/2020 17:00</td>\n",
       "      <td>1.0</td>\n",
       "      <td>0.0</td>\n",
       "      <td>0.0</td>\n",
       "    </tr>\n",
       "    <tr>\n",
       "      <th>4</th>\n",
       "      <td>5</td>\n",
       "      <td>01/22/2020</td>\n",
       "      <td>Gansu</td>\n",
       "      <td>Mainland China</td>\n",
       "      <td>1/22/2020 17:00</td>\n",
       "      <td>0.0</td>\n",
       "      <td>0.0</td>\n",
       "      <td>0.0</td>\n",
       "    </tr>\n",
       "    <tr>\n",
       "      <th>...</th>\n",
       "      <td>...</td>\n",
       "      <td>...</td>\n",
       "      <td>...</td>\n",
       "      <td>...</td>\n",
       "      <td>...</td>\n",
       "      <td>...</td>\n",
       "      <td>...</td>\n",
       "      <td>...</td>\n",
       "    </tr>\n",
       "    <tr>\n",
       "      <th>22830</th>\n",
       "      <td>22831</td>\n",
       "      <td>05/08/2020</td>\n",
       "      <td>Wyoming</td>\n",
       "      <td>US</td>\n",
       "      <td>2020-05-09 02:32:35</td>\n",
       "      <td>644.0</td>\n",
       "      <td>7.0</td>\n",
       "      <td>0.0</td>\n",
       "    </tr>\n",
       "    <tr>\n",
       "      <th>22831</th>\n",
       "      <td>22832</td>\n",
       "      <td>05/08/2020</td>\n",
       "      <td>Xinjiang</td>\n",
       "      <td>Mainland China</td>\n",
       "      <td>2020-05-09 02:32:35</td>\n",
       "      <td>76.0</td>\n",
       "      <td>3.0</td>\n",
       "      <td>73.0</td>\n",
       "    </tr>\n",
       "    <tr>\n",
       "      <th>22832</th>\n",
       "      <td>22833</td>\n",
       "      <td>05/08/2020</td>\n",
       "      <td>Yukon</td>\n",
       "      <td>Canada</td>\n",
       "      <td>2020-05-09 02:32:35</td>\n",
       "      <td>11.0</td>\n",
       "      <td>0.0</td>\n",
       "      <td>0.0</td>\n",
       "    </tr>\n",
       "    <tr>\n",
       "      <th>22833</th>\n",
       "      <td>22834</td>\n",
       "      <td>05/08/2020</td>\n",
       "      <td>Yunnan</td>\n",
       "      <td>Mainland China</td>\n",
       "      <td>2020-05-09 02:32:35</td>\n",
       "      <td>185.0</td>\n",
       "      <td>2.0</td>\n",
       "      <td>182.0</td>\n",
       "    </tr>\n",
       "    <tr>\n",
       "      <th>22834</th>\n",
       "      <td>22835</td>\n",
       "      <td>05/08/2020</td>\n",
       "      <td>Zhejiang</td>\n",
       "      <td>Mainland China</td>\n",
       "      <td>2020-05-09 02:32:35</td>\n",
       "      <td>1268.0</td>\n",
       "      <td>1.0</td>\n",
       "      <td>1267.0</td>\n",
       "    </tr>\n",
       "  </tbody>\n",
       "</table>\n",
       "<p>22835 rows × 8 columns</p>\n",
       "</div>"
      ],
      "text/plain": [
       "         SNo ObservationDate Province/State  Country/Region  \\\n",
       "0          1      01/22/2020          Anhui  Mainland China   \n",
       "1          2      01/22/2020        Beijing  Mainland China   \n",
       "2          3      01/22/2020      Chongqing  Mainland China   \n",
       "3          4      01/22/2020         Fujian  Mainland China   \n",
       "4          5      01/22/2020          Gansu  Mainland China   \n",
       "...      ...             ...            ...             ...   \n",
       "22830  22831      05/08/2020        Wyoming              US   \n",
       "22831  22832      05/08/2020       Xinjiang  Mainland China   \n",
       "22832  22833      05/08/2020          Yukon          Canada   \n",
       "22833  22834      05/08/2020         Yunnan  Mainland China   \n",
       "22834  22835      05/08/2020       Zhejiang  Mainland China   \n",
       "\n",
       "               Last Update  Confirmed  Deaths  Recovered  \n",
       "0          1/22/2020 17:00        1.0     0.0        0.0  \n",
       "1          1/22/2020 17:00       14.0     0.0        0.0  \n",
       "2          1/22/2020 17:00        6.0     0.0        0.0  \n",
       "3          1/22/2020 17:00        1.0     0.0        0.0  \n",
       "4          1/22/2020 17:00        0.0     0.0        0.0  \n",
       "...                    ...        ...     ...        ...  \n",
       "22830  2020-05-09 02:32:35      644.0     7.0        0.0  \n",
       "22831  2020-05-09 02:32:35       76.0     3.0       73.0  \n",
       "22832  2020-05-09 02:32:35       11.0     0.0        0.0  \n",
       "22833  2020-05-09 02:32:35      185.0     2.0      182.0  \n",
       "22834  2020-05-09 02:32:35     1268.0     1.0     1267.0  \n",
       "\n",
       "[22835 rows x 8 columns]"
      ]
     },
     "execution_count": 5,
     "metadata": {},
     "output_type": "execute_result"
    }
   ],
   "source": [
    "raw"
   ]
  },
  {
   "cell_type": "code",
   "execution_count": 6,
   "metadata": {},
   "outputs": [
    {
     "data": {
      "text/html": [
       "<div>\n",
       "<style scoped>\n",
       "    .dataframe tbody tr th:only-of-type {\n",
       "        vertical-align: middle;\n",
       "    }\n",
       "\n",
       "    .dataframe tbody tr th {\n",
       "        vertical-align: top;\n",
       "    }\n",
       "\n",
       "    .dataframe thead th {\n",
       "        text-align: right;\n",
       "    }\n",
       "</style>\n",
       "<table border=\"1\" class=\"dataframe\">\n",
       "  <thead>\n",
       "    <tr style=\"text-align: right;\">\n",
       "      <th></th>\n",
       "      <th>Date</th>\n",
       "      <th>Country</th>\n",
       "      <th>Province</th>\n",
       "      <th>Confirmed</th>\n",
       "      <th>Infected</th>\n",
       "      <th>Deaths</th>\n",
       "      <th>Recovered</th>\n",
       "    </tr>\n",
       "  </thead>\n",
       "  <tbody>\n",
       "    <tr>\n",
       "      <th>22830</th>\n",
       "      <td>2020-05-08</td>\n",
       "      <td>US</td>\n",
       "      <td>Wyoming</td>\n",
       "      <td>644</td>\n",
       "      <td>637</td>\n",
       "      <td>7</td>\n",
       "      <td>0</td>\n",
       "    </tr>\n",
       "    <tr>\n",
       "      <th>22831</th>\n",
       "      <td>2020-05-08</td>\n",
       "      <td>Mainland China</td>\n",
       "      <td>Xinjiang</td>\n",
       "      <td>76</td>\n",
       "      <td>0</td>\n",
       "      <td>3</td>\n",
       "      <td>73</td>\n",
       "    </tr>\n",
       "    <tr>\n",
       "      <th>22832</th>\n",
       "      <td>2020-05-08</td>\n",
       "      <td>Canada</td>\n",
       "      <td>Yukon</td>\n",
       "      <td>11</td>\n",
       "      <td>11</td>\n",
       "      <td>0</td>\n",
       "      <td>0</td>\n",
       "    </tr>\n",
       "    <tr>\n",
       "      <th>22833</th>\n",
       "      <td>2020-05-08</td>\n",
       "      <td>Mainland China</td>\n",
       "      <td>Yunnan</td>\n",
       "      <td>185</td>\n",
       "      <td>1</td>\n",
       "      <td>2</td>\n",
       "      <td>182</td>\n",
       "    </tr>\n",
       "    <tr>\n",
       "      <th>22834</th>\n",
       "      <td>2020-05-08</td>\n",
       "      <td>Mainland China</td>\n",
       "      <td>Zhejiang</td>\n",
       "      <td>1268</td>\n",
       "      <td>0</td>\n",
       "      <td>1</td>\n",
       "      <td>1267</td>\n",
       "    </tr>\n",
       "  </tbody>\n",
       "</table>\n",
       "</div>"
      ],
      "text/plain": [
       "            Date         Country  Province  Confirmed  Infected  Deaths  \\\n",
       "22830 2020-05-08              US   Wyoming        644       637       7   \n",
       "22831 2020-05-08  Mainland China  Xinjiang         76         0       3   \n",
       "22832 2020-05-08          Canada     Yukon         11        11       0   \n",
       "22833 2020-05-08  Mainland China    Yunnan        185         1       2   \n",
       "22834 2020-05-08  Mainland China  Zhejiang       1268         0       1   \n",
       "\n",
       "       Recovered  \n",
       "22830          0  \n",
       "22831         73  \n",
       "22832          0  \n",
       "22833        182  \n",
       "22834       1267  "
      ]
     },
     "execution_count": 6,
     "metadata": {},
     "output_type": "execute_result"
    }
   ],
   "source": [
    "data_cols = [\"Infected\", \"Deaths\", \"Recovered\"]\n",
    "data_cols_all = [\"Confirmed\", \"Infected\", \"Deaths\", \"Recovered\"]\n",
    "df = raw.rename({\"ObservationDate\": \"Date\", \"Province/State\": \"Province\"}, axis=1)\n",
    "df[\"Date\"] = pd.to_datetime(df[\"Date\"])\n",
    "df[\"Country\"] = df[\"Country/Region\"]\n",
    "df.loc[df[\"Country\"] == \"Diamond Princess\", [\"Country\", \"Province\"]] = [\"Others\", \"Diamond Princess\"]\n",
    "df[\"Infected\"] = df[\"Confirmed\"] - df[\"Deaths\"] - df[\"Recovered\"]\n",
    "df[data_cols_all] = df[data_cols_all].astype(np.int64)\n",
    "ncov_df_ungrouped = df.loc[:, [\"Date\", \"Country\", \"Province\", *data_cols_all]]\n",
    "ncov_df_ungrouped.tail()"
   ]
  },
  {
   "cell_type": "code",
   "execution_count": 7,
   "metadata": {},
   "outputs": [
    {
     "data": {
      "text/html": [
       "<div>\n",
       "<style scoped>\n",
       "    .dataframe tbody tr th:only-of-type {\n",
       "        vertical-align: middle;\n",
       "    }\n",
       "\n",
       "    .dataframe tbody tr th {\n",
       "        vertical-align: top;\n",
       "    }\n",
       "\n",
       "    .dataframe thead th {\n",
       "        text-align: right;\n",
       "    }\n",
       "</style>\n",
       "<table border=\"1\" class=\"dataframe\">\n",
       "  <thead>\n",
       "    <tr style=\"text-align: right;\">\n",
       "      <th></th>\n",
       "      <th>Confirmed</th>\n",
       "      <th>Infected</th>\n",
       "      <th>Deaths</th>\n",
       "      <th>Recovered</th>\n",
       "      <th>Country</th>\n",
       "      <th>Province</th>\n",
       "    </tr>\n",
       "    <tr>\n",
       "      <th>Date</th>\n",
       "      <th></th>\n",
       "      <th></th>\n",
       "      <th></th>\n",
       "      <th></th>\n",
       "      <th></th>\n",
       "      <th></th>\n",
       "    </tr>\n",
       "  </thead>\n",
       "  <tbody>\n",
       "    <tr>\n",
       "      <th>2020-05-04</th>\n",
       "      <td>7819</td>\n",
       "      <td>3760</td>\n",
       "      <td>252</td>\n",
       "      <td>3807</td>\n",
       "      <td>Czech Republic</td>\n",
       "      <td>None</td>\n",
       "    </tr>\n",
       "    <tr>\n",
       "      <th>2020-05-05</th>\n",
       "      <td>7896</td>\n",
       "      <td>3633</td>\n",
       "      <td>257</td>\n",
       "      <td>4006</td>\n",
       "      <td>Czech Republic</td>\n",
       "      <td>None</td>\n",
       "    </tr>\n",
       "    <tr>\n",
       "      <th>2020-05-06</th>\n",
       "      <td>7974</td>\n",
       "      <td>3507</td>\n",
       "      <td>262</td>\n",
       "      <td>4205</td>\n",
       "      <td>Czech Republic</td>\n",
       "      <td>None</td>\n",
       "    </tr>\n",
       "    <tr>\n",
       "      <th>2020-05-07</th>\n",
       "      <td>8031</td>\n",
       "      <td>3390</td>\n",
       "      <td>270</td>\n",
       "      <td>4371</td>\n",
       "      <td>Czech Republic</td>\n",
       "      <td>None</td>\n",
       "    </tr>\n",
       "    <tr>\n",
       "      <th>2020-05-08</th>\n",
       "      <td>8077</td>\n",
       "      <td>3391</td>\n",
       "      <td>273</td>\n",
       "      <td>4413</td>\n",
       "      <td>Czech Republic</td>\n",
       "      <td>None</td>\n",
       "    </tr>\n",
       "  </tbody>\n",
       "</table>\n",
       "</div>"
      ],
      "text/plain": [
       "            Confirmed  Infected  Deaths  Recovered         Country Province\n",
       "Date                                                                       \n",
       "2020-05-04       7819      3760     252       3807  Czech Republic     None\n",
       "2020-05-05       7896      3633     257       4006  Czech Republic     None\n",
       "2020-05-06       7974      3507     262       4205  Czech Republic     None\n",
       "2020-05-07       8031      3390     270       4371  Czech Republic     None\n",
       "2020-05-08       8077      3391     273       4413  Czech Republic     None"
      ]
     },
     "execution_count": 7,
     "metadata": {},
     "output_type": "execute_result"
    }
   ],
   "source": [
    "df_germany = ncov_df_ungrouped.loc[ncov_df_ungrouped[\"Country\"] == \"Czech Republic\", :].groupby(\"Date\").sum()\n",
    "df_germany['Country'] = 'Czech Republic'\n",
    "df_germany['Province'] = None\n",
    "df_germany.tail()"
   ]
  },
  {
   "cell_type": "code",
   "execution_count": 8,
   "metadata": {},
   "outputs": [
    {
     "data": {
      "text/html": [
       "<div>\n",
       "<style scoped>\n",
       "    .dataframe tbody tr th:only-of-type {\n",
       "        vertical-align: middle;\n",
       "    }\n",
       "\n",
       "    .dataframe tbody tr th {\n",
       "        vertical-align: top;\n",
       "    }\n",
       "\n",
       "    .dataframe thead th {\n",
       "        text-align: right;\n",
       "    }\n",
       "</style>\n",
       "<table border=\"1\" class=\"dataframe\">\n",
       "  <thead>\n",
       "    <tr style=\"text-align: right;\">\n",
       "      <th></th>\n",
       "      <th>Entity</th>\n",
       "      <th>Code</th>\n",
       "      <th>Date</th>\n",
       "      <th>TotalTests</th>\n",
       "    </tr>\n",
       "  </thead>\n",
       "  <tbody>\n",
       "    <tr>\n",
       "      <th>281</th>\n",
       "      <td>Czech Republic</td>\n",
       "      <td>CZE</td>\n",
       "      <td>2020-04-09</td>\n",
       "      <td>114854</td>\n",
       "    </tr>\n",
       "    <tr>\n",
       "      <th>282</th>\n",
       "      <td>Czech Republic</td>\n",
       "      <td>CZE</td>\n",
       "      <td>2020-04-10</td>\n",
       "      <td>120285</td>\n",
       "    </tr>\n",
       "    <tr>\n",
       "      <th>283</th>\n",
       "      <td>Czech Republic</td>\n",
       "      <td>CZE</td>\n",
       "      <td>2020-04-11</td>\n",
       "      <td>125126</td>\n",
       "    </tr>\n",
       "    <tr>\n",
       "      <th>284</th>\n",
       "      <td>Czech Republic</td>\n",
       "      <td>CZE</td>\n",
       "      <td>2020-04-12</td>\n",
       "      <td>128359</td>\n",
       "    </tr>\n",
       "    <tr>\n",
       "      <th>285</th>\n",
       "      <td>Czech Republic</td>\n",
       "      <td>CZE</td>\n",
       "      <td>2020-04-13</td>\n",
       "      <td>131542</td>\n",
       "    </tr>\n",
       "  </tbody>\n",
       "</table>\n",
       "</div>"
      ],
      "text/plain": [
       "             Entity Code       Date  TotalTests\n",
       "281  Czech Republic  CZE 2020-04-09      114854\n",
       "282  Czech Republic  CZE 2020-04-10      120285\n",
       "283  Czech Republic  CZE 2020-04-11      125126\n",
       "284  Czech Republic  CZE 2020-04-12      128359\n",
       "285  Czech Republic  CZE 2020-04-13      131542"
      ]
     },
     "execution_count": 8,
     "metadata": {},
     "output_type": "execute_result"
    }
   ],
   "source": [
    "df_test = pd.read_csv(\"../data/full-list-total-tests-for-covid-19.csv\")\n",
    "df_test.rename({\"Cumulative total tests\": \"TotalTests\"}, axis=1,inplace=True)\n",
    "df_test[\"Date\"] = pd.to_datetime(df_test[\"Date\"])\n",
    "df_test_germany = df_test[df_test['Entity'] == 'Czech Republic']\n",
    "df_test_germany.tail()"
   ]
  },
  {
   "cell_type": "code",
   "execution_count": 9,
   "metadata": {},
   "outputs": [
    {
     "data": {
      "text/html": [
       "<div>\n",
       "<style scoped>\n",
       "    .dataframe tbody tr th:only-of-type {\n",
       "        vertical-align: middle;\n",
       "    }\n",
       "\n",
       "    .dataframe tbody tr th {\n",
       "        vertical-align: top;\n",
       "    }\n",
       "\n",
       "    .dataframe thead th {\n",
       "        text-align: right;\n",
       "    }\n",
       "</style>\n",
       "<table border=\"1\" class=\"dataframe\">\n",
       "  <thead>\n",
       "    <tr style=\"text-align: right;\">\n",
       "      <th></th>\n",
       "      <th>Date</th>\n",
       "      <th>Confirmed</th>\n",
       "      <th>Infected</th>\n",
       "      <th>Deaths</th>\n",
       "      <th>Recovered</th>\n",
       "      <th>Country</th>\n",
       "      <th>Province</th>\n",
       "      <th>TotalTests</th>\n",
       "    </tr>\n",
       "  </thead>\n",
       "  <tbody>\n",
       "    <tr>\n",
       "      <th>64</th>\n",
       "      <td>2020-05-04</td>\n",
       "      <td>7819</td>\n",
       "      <td>3760</td>\n",
       "      <td>252</td>\n",
       "      <td>3807</td>\n",
       "      <td>Czech Republic</td>\n",
       "      <td>None</td>\n",
       "      <td>131542</td>\n",
       "    </tr>\n",
       "    <tr>\n",
       "      <th>65</th>\n",
       "      <td>2020-05-05</td>\n",
       "      <td>7896</td>\n",
       "      <td>3633</td>\n",
       "      <td>257</td>\n",
       "      <td>4006</td>\n",
       "      <td>Czech Republic</td>\n",
       "      <td>None</td>\n",
       "      <td>131542</td>\n",
       "    </tr>\n",
       "    <tr>\n",
       "      <th>66</th>\n",
       "      <td>2020-05-06</td>\n",
       "      <td>7974</td>\n",
       "      <td>3507</td>\n",
       "      <td>262</td>\n",
       "      <td>4205</td>\n",
       "      <td>Czech Republic</td>\n",
       "      <td>None</td>\n",
       "      <td>131542</td>\n",
       "    </tr>\n",
       "    <tr>\n",
       "      <th>67</th>\n",
       "      <td>2020-05-07</td>\n",
       "      <td>8031</td>\n",
       "      <td>3390</td>\n",
       "      <td>270</td>\n",
       "      <td>4371</td>\n",
       "      <td>Czech Republic</td>\n",
       "      <td>None</td>\n",
       "      <td>131542</td>\n",
       "    </tr>\n",
       "    <tr>\n",
       "      <th>68</th>\n",
       "      <td>2020-05-08</td>\n",
       "      <td>8077</td>\n",
       "      <td>3391</td>\n",
       "      <td>273</td>\n",
       "      <td>4413</td>\n",
       "      <td>Czech Republic</td>\n",
       "      <td>None</td>\n",
       "      <td>131542</td>\n",
       "    </tr>\n",
       "  </tbody>\n",
       "</table>\n",
       "</div>"
      ],
      "text/plain": [
       "         Date  Confirmed  Infected  Deaths  Recovered         Country  \\\n",
       "64 2020-05-04       7819      3760     252       3807  Czech Republic   \n",
       "65 2020-05-05       7896      3633     257       4006  Czech Republic   \n",
       "66 2020-05-06       7974      3507     262       4205  Czech Republic   \n",
       "67 2020-05-07       8031      3390     270       4371  Czech Republic   \n",
       "68 2020-05-08       8077      3391     273       4413  Czech Republic   \n",
       "\n",
       "   Province  TotalTests  \n",
       "64     None      131542  \n",
       "65     None      131542  \n",
       "66     None      131542  \n",
       "67     None      131542  \n",
       "68     None      131542  "
      ]
     },
     "execution_count": 9,
     "metadata": {},
     "output_type": "execute_result"
    }
   ],
   "source": [
    "result = pd.merge(df_germany,\n",
    "                 df_test_germany[['Date','TotalTests']],\n",
    "                 on='Date',\n",
    "                 how = 'left')\n",
    "from numpy import isnan\n",
    "result.loc[0, ('TotalTests')] = 0 if isnan(result['TotalTests'][0]) else result['TotalTests'][0]\n",
    "result['TotalTests'].interpolate(method='linear',inplace=True,limit_direction='both')\n",
    "result['TotalTests'] = result['TotalTests'].astype(int)\n",
    "border_date = '2020-05-02'\n",
    "training = result[(result['Date'] > '2020-01-01') & (result['Date'] < border_date)]\n",
    "test = result[result['Date'] >= border_date]\n",
    "result.tail()\n"
   ]
  },
  {
   "cell_type": "code",
   "execution_count": 10,
   "metadata": {},
   "outputs": [
    {
     "data": {
      "image/png": "[encoded data removed]",
      "text/plain": [
       "<Figure size 432x288 with 1 Axes>"
      ]
     },
     "metadata": {
      "needs_background": "light"
     },
     "output_type": "display_data"
    }
   ],
   "source": [
    "data_cols_all += ['TotalTests']\n",
    "model.line_plot(result[data_cols_all], \"Total number of cases over time\")"
   ]
  },
  {
   "cell_type": "code",
   "execution_count": 11,
   "metadata": {},
   "outputs": [],
   "source": [
    "ger_scenario = model.Scenario(training, name=\"Czech Republic\", places=[(\"Czech Republic\", None)])"
   ]
  },
  {
   "cell_type": "code",
   "execution_count": 12,
   "metadata": {},
   "outputs": [
    {
     "data": {
      "image/png": "[encoded data removed]",
      "text/plain": [
       "<Figure size 432x288 with 1 Axes>"
      ]
     },
     "metadata": {
      "needs_background": "light"
     },
     "output_type": "display_data"
    },
    {
     "data": {
      "text/html": [
       "<div>\n",
       "<style scoped>\n",
       "    .dataframe tbody tr th:only-of-type {\n",
       "        vertical-align: middle;\n",
       "    }\n",
       "\n",
       "    .dataframe tbody tr th {\n",
       "        vertical-align: top;\n",
       "    }\n",
       "\n",
       "    .dataframe thead th {\n",
       "        text-align: right;\n",
       "    }\n",
       "</style>\n",
       "<table border=\"1\" class=\"dataframe\">\n",
       "  <thead>\n",
       "    <tr style=\"text-align: right;\">\n",
       "      <th></th>\n",
       "      <th>Date</th>\n",
       "      <th>Confirmed</th>\n",
       "      <th>Infected</th>\n",
       "      <th>Deaths</th>\n",
       "      <th>Recovered</th>\n",
       "    </tr>\n",
       "  </thead>\n",
       "  <tbody>\n",
       "    <tr>\n",
       "      <th>57</th>\n",
       "      <td>2020-04-27</td>\n",
       "      <td>7445</td>\n",
       "      <td>4396</td>\n",
       "      <td>223</td>\n",
       "      <td>2826</td>\n",
       "    </tr>\n",
       "    <tr>\n",
       "      <th>58</th>\n",
       "      <td>2020-04-28</td>\n",
       "      <td>7504</td>\n",
       "      <td>4329</td>\n",
       "      <td>227</td>\n",
       "      <td>2948</td>\n",
       "    </tr>\n",
       "    <tr>\n",
       "      <th>59</th>\n",
       "      <td>2020-04-29</td>\n",
       "      <td>7579</td>\n",
       "      <td>4244</td>\n",
       "      <td>227</td>\n",
       "      <td>3108</td>\n",
       "    </tr>\n",
       "    <tr>\n",
       "      <th>60</th>\n",
       "      <td>2020-04-30</td>\n",
       "      <td>7682</td>\n",
       "      <td>4132</td>\n",
       "      <td>236</td>\n",
       "      <td>3314</td>\n",
       "    </tr>\n",
       "    <tr>\n",
       "      <th>61</th>\n",
       "      <td>2020-05-01</td>\n",
       "      <td>7737</td>\n",
       "      <td>4125</td>\n",
       "      <td>240</td>\n",
       "      <td>3372</td>\n",
       "    </tr>\n",
       "  </tbody>\n",
       "</table>\n",
       "</div>"
      ],
      "text/plain": [
       "         Date  Confirmed  Infected  Deaths  Recovered\n",
       "57 2020-04-27       7445      4396     223       2826\n",
       "58 2020-04-28       7504      4329     227       2948\n",
       "59 2020-04-29       7579      4244     227       3108\n",
       "60 2020-04-30       7682      4132     236       3314\n",
       "61 2020-05-01       7737      4125     240       3372"
      ]
     },
     "execution_count": 12,
     "metadata": {},
     "output_type": "execute_result"
    }
   ],
   "source": [
    "ger_scenario.show_record().tail()"
   ]
  },
  {
   "cell_type": "code",
   "execution_count": 13,
   "metadata": {},
   "outputs": [
    {
     "data": {
      "image/png": "[encoded data removed]",
      "text/plain": [
       "<Figure size 432x288 with 1 Axes>"
      ]
     },
     "metadata": {
      "needs_background": "light"
     },
     "output_type": "display_data"
    },
    {
     "data": {
      "text/html": [
       "<div>\n",
       "<style scoped>\n",
       "    .dataframe tbody tr th:only-of-type {\n",
       "        vertical-align: middle;\n",
       "    }\n",
       "\n",
       "    .dataframe tbody tr th {\n",
       "        vertical-align: top;\n",
       "    }\n",
       "\n",
       "    .dataframe thead th {\n",
       "        text-align: right;\n",
       "    }\n",
       "</style>\n",
       "<table border=\"1\" class=\"dataframe\">\n",
       "  <thead>\n",
       "    <tr style=\"text-align: right;\">\n",
       "      <th></th>\n",
       "      <th>Date</th>\n",
       "      <th>Group</th>\n",
       "      <th>GF &gt; 1 [straight days]</th>\n",
       "      <th>GF &lt; 1 [straight days]</th>\n",
       "    </tr>\n",
       "  </thead>\n",
       "  <tbody>\n",
       "    <tr>\n",
       "      <th>Czech Republic</th>\n",
       "      <td>2020-05-01</td>\n",
       "      <td>Crossroad</td>\n",
       "      <td>0</td>\n",
       "      <td>0</td>\n",
       "    </tr>\n",
       "  </tbody>\n",
       "</table>\n",
       "</div>"
      ],
      "text/plain": [
       "                     Date      Group  GF > 1 [straight days]  \\\n",
       "Czech Republic 2020-05-01  Crossroad                       0   \n",
       "\n",
       "                GF < 1 [straight days]  \n",
       "Czech Republic                       0  "
      ]
     },
     "execution_count": 13,
     "metadata": {},
     "output_type": "execute_result"
    }
   ],
   "source": [
    "ger_scenario.growth_factor()"
   ]
  },
  {
   "cell_type": "code",
   "execution_count": 14,
   "metadata": {},
   "outputs": [
    {
     "data": {
      "text/html": [
       "<div>\n",
       "<style scoped>\n",
       "    .dataframe tbody tr th:only-of-type {\n",
       "        vertical-align: middle;\n",
       "    }\n",
       "\n",
       "    .dataframe tbody tr th {\n",
       "        vertical-align: top;\n",
       "    }\n",
       "\n",
       "    .dataframe thead th {\n",
       "        text-align: right;\n",
       "    }\n",
       "</style>\n",
       "<table border=\"1\" class=\"dataframe\">\n",
       "  <thead>\n",
       "    <tr style=\"text-align: right;\">\n",
       "      <th></th>\n",
       "      <th>Date</th>\n",
       "      <th>Confirmed</th>\n",
       "      <th>Infected</th>\n",
       "      <th>Deaths</th>\n",
       "      <th>Recovered</th>\n",
       "      <th>Country</th>\n",
       "      <th>Province</th>\n",
       "      <th>TotalTests</th>\n",
       "    </tr>\n",
       "  </thead>\n",
       "  <tbody>\n",
       "    <tr>\n",
       "      <th>43</th>\n",
       "      <td>2020-04-13</td>\n",
       "      <td>6059</td>\n",
       "      <td>5397</td>\n",
       "      <td>143</td>\n",
       "      <td>519</td>\n",
       "      <td>Czech Republic</td>\n",
       "      <td>None</td>\n",
       "      <td>131542</td>\n",
       "    </tr>\n",
       "  </tbody>\n",
       "</table>\n",
       "</div>"
      ],
      "text/plain": [
       "         Date  Confirmed  Infected  Deaths  Recovered         Country  \\\n",
       "43 2020-04-13       6059      5397     143        519  Czech Republic   \n",
       "\n",
       "   Province  TotalTests  \n",
       "43     None      131542  "
      ]
     },
     "execution_count": 14,
     "metadata": {},
     "output_type": "execute_result"
    }
   ],
   "source": [
    "result.loc[result['Date'] == '2020-04-13']"
   ]
  },
  {
   "cell_type": "code",
   "execution_count": 15,
   "metadata": {},
   "outputs": [
    {
     "data": {
      "text/html": [
       "<div>\n",
       "<style scoped>\n",
       "    .dataframe tbody tr th:only-of-type {\n",
       "        vertical-align: middle;\n",
       "    }\n",
       "\n",
       "    .dataframe tbody tr th {\n",
       "        vertical-align: top;\n",
       "    }\n",
       "\n",
       "    .dataframe thead th {\n",
       "        text-align: right;\n",
       "    }\n",
       "</style>\n",
       "<table border=\"1\" class=\"dataframe\">\n",
       "  <thead>\n",
       "    <tr style=\"text-align: right;\">\n",
       "      <th></th>\n",
       "      <th>start_date</th>\n",
       "      <th>end_date</th>\n",
       "      <th>population</th>\n",
       "    </tr>\n",
       "  </thead>\n",
       "  <tbody>\n",
       "    <tr>\n",
       "      <th>1st</th>\n",
       "      <td>25Mar2020</td>\n",
       "      <td>06Apr2020</td>\n",
       "      <td>10650000</td>\n",
       "    </tr>\n",
       "    <tr>\n",
       "      <th>2nd</th>\n",
       "      <td>07Apr2020</td>\n",
       "      <td>21Apr2020</td>\n",
       "      <td>10650000</td>\n",
       "    </tr>\n",
       "    <tr>\n",
       "      <th>3rd</th>\n",
       "      <td>22Apr2020</td>\n",
       "      <td>-</td>\n",
       "      <td>10650000</td>\n",
       "    </tr>\n",
       "  </tbody>\n",
       "</table>\n",
       "</div>"
      ],
      "text/plain": [
       "    start_date   end_date  population\n",
       "1st  25Mar2020  06Apr2020    10650000\n",
       "2nd  07Apr2020  21Apr2020    10650000\n",
       "3rd  22Apr2020          -    10650000"
      ]
     },
     "execution_count": 15,
     "metadata": {},
     "output_type": "execute_result"
    }
   ],
   "source": [
    "ger_scenario.set_phase(\n",
    "    start_dates=[\"25Mar2020\",\"07Apr2020\",\"22Apr2020\"],\n",
    "    population=population_country\n",
    ")"
   ]
  },
  {
   "cell_type": "code",
   "execution_count": 16,
   "metadata": {},
   "outputs": [
    {
     "name": "stdout",
     "output_type": "stream",
     "text": [
      "Hyperparameter estimation of 1st phase.\n",
      "\tEstimator was created.\n",
      "\t\t100 trials finished in 0 min 8 sec.\n",
      "\tSuccessfully estimated.\n",
      "Hyperparameter estimation of 2nd phase.\n",
      "\tEstimator was created.\n",
      "\t\t100 trials finished in 0 min 7 sec.\n",
      "\tSuccessfully estimated.\n",
      "Hyperparameter estimation of 3rd phase.\n",
      "\tEstimator was created.\n",
      "\t\t100 trials finished in 0 min 7 sec.\n",
      "\tSuccessfully estimated.\n",
      "Total: 0 min 23 sec.\n"
     ]
    }
   ],
   "source": [
    "ger_scenario.estimate(model.SIR)"
   ]
  },
  {
   "cell_type": "code",
   "execution_count": 17,
   "metadata": {
    "scrolled": true
   },
   "outputs": [
    {
     "data": {
      "text/html": [
       "<div>\n",
       "<style scoped>\n",
       "    .dataframe tbody tr th:only-of-type {\n",
       "        vertical-align: middle;\n",
       "    }\n",
       "\n",
       "    .dataframe tbody tr th {\n",
       "        vertical-align: top;\n",
       "    }\n",
       "\n",
       "    .dataframe thead th {\n",
       "        text-align: right;\n",
       "    }\n",
       "</style>\n",
       "<table border=\"1\" class=\"dataframe\">\n",
       "  <thead>\n",
       "    <tr style=\"text-align: right;\">\n",
       "      <th></th>\n",
       "      <th>start_date</th>\n",
       "      <th>end_date</th>\n",
       "      <th>population</th>\n",
       "      <th>tau</th>\n",
       "      <th>rho</th>\n",
       "      <th>sigma</th>\n",
       "      <th>Rt</th>\n",
       "      <th>score</th>\n",
       "      <th>1/beta [day]</th>\n",
       "      <th>1/gamma [day]</th>\n",
       "    </tr>\n",
       "  </thead>\n",
       "  <tbody>\n",
       "    <tr>\n",
       "      <th>1st</th>\n",
       "      <td>25Mar2020</td>\n",
       "      <td>06Apr2020</td>\n",
       "      <td>10650000</td>\n",
       "      <td>1161</td>\n",
       "      <td>0.084099</td>\n",
       "      <td>0.003916</td>\n",
       "      <td>21.48</td>\n",
       "      <td>0.173409</td>\n",
       "      <td>9</td>\n",
       "      <td>205</td>\n",
       "    </tr>\n",
       "    <tr>\n",
       "      <th>2nd</th>\n",
       "      <td>07Apr2020</td>\n",
       "      <td>21Apr2020</td>\n",
       "      <td>10650000</td>\n",
       "      <td>1161</td>\n",
       "      <td>0.024213</td>\n",
       "      <td>0.017513</td>\n",
       "      <td>1.38</td>\n",
       "      <td>0.077224</td>\n",
       "      <td>33</td>\n",
       "      <td>46</td>\n",
       "    </tr>\n",
       "    <tr>\n",
       "      <th>3rd</th>\n",
       "      <td>22Apr2020</td>\n",
       "      <td>-</td>\n",
       "      <td>10650000</td>\n",
       "      <td>1161</td>\n",
       "      <td>0.011620</td>\n",
       "      <td>0.030417</td>\n",
       "      <td>0.38</td>\n",
       "      <td>0.012761</td>\n",
       "      <td>69</td>\n",
       "      <td>26</td>\n",
       "    </tr>\n",
       "  </tbody>\n",
       "</table>\n",
       "</div>"
      ],
      "text/plain": [
       "    start_date   end_date  population   tau       rho     sigma     Rt  \\\n",
       "1st  25Mar2020  06Apr2020    10650000  1161  0.084099  0.003916  21.48   \n",
       "2nd  07Apr2020  21Apr2020    10650000  1161  0.024213  0.017513   1.38   \n",
       "3rd  22Apr2020          -    10650000  1161  0.011620  0.030417   0.38   \n",
       "\n",
       "        score  1/beta [day]  1/gamma [day]  \n",
       "1st  0.173409             9            205  \n",
       "2nd  0.077224            33             46  \n",
       "3rd  0.012761            69             26  "
      ]
     },
     "execution_count": 17,
     "metadata": {},
     "output_type": "execute_result"
    }
   ],
   "source": [
    "ger_scenario.show_parameters()"
   ]
  },
  {
   "cell_type": "code",
   "execution_count": 18,
   "metadata": {
    "scrolled": true
   },
   "outputs": [
    {
     "name": "stderr",
     "output_type": "stream",
     "text": [
      "../model/model.py:762: UserWarning: Matplotlib is currently using module://ipykernel.pylab.backend_inline, which is a non-GUI backend, so cannot show the figure.\n",
      "  fig.show()\n"
     ]
    },
    {
     "data": {
      "image/png": "[encoded data removed]",
      "text/plain": [
       "<Figure size 648x648 with 3 Axes>"
      ]
     },
     "metadata": {
      "needs_background": "light"
     },
     "output_type": "display_data"
    }
   ],
   "source": [
    "ger_scenario.accuracy_graph(phase_n=1)"
   ]
  },
  {
   "cell_type": "code",
   "execution_count": 19,
   "metadata": {
    "scrolled": true
   },
   "outputs": [
    {
     "name": "stderr",
     "output_type": "stream",
     "text": [
      "../model/model.py:762: UserWarning: Matplotlib is currently using module://ipykernel.pylab.backend_inline, which is a non-GUI backend, so cannot show the figure.\n",
      "  fig.show()\n"
     ]
    },
    {
     "data": {
      "image/png": "[encoded data removed]",
      "text/plain": [
       "<Figure size 648x648 with 3 Axes>"
      ]
     },
     "metadata": {
      "needs_background": "light"
     },
     "output_type": "display_data"
    }
   ],
   "source": [
    "ger_scenario.accuracy_graph(phase_n=2)"
   ]
  },
  {
   "cell_type": "code",
   "execution_count": 20,
   "metadata": {
    "scrolled": true
   },
   "outputs": [
    {
     "name": "stderr",
     "output_type": "stream",
     "text": [
      "../model/model.py:762: UserWarning: Matplotlib is currently using module://ipykernel.pylab.backend_inline, which is a non-GUI backend, so cannot show the figure.\n",
      "  fig.show()\n"
     ]
    },
    {
     "data": {
      "image/png": "[encoded data removed]",
      "text/plain": [
       "<Figure size 648x648 with 3 Axes>"
      ]
     },
     "metadata": {
      "needs_background": "light"
     },
     "output_type": "display_data"
    }
   ],
   "source": [
    "ger_scenario.accuracy_graph(phase_n=3)"
   ]
  },
  {
   "cell_type": "code",
   "execution_count": 21,
   "metadata": {
    "scrolled": true
   },
   "outputs": [
    {
     "data": {
      "image/png": "[encoded data removed]",
      "text/plain": [
       "<Figure size 432x288 with 1 Axes>"
      ]
     },
     "metadata": {
      "needs_background": "light"
     },
     "output_type": "display_data"
    },
    {
     "data": {
      "text/html": [
       "<div>\n",
       "<style scoped>\n",
       "    .dataframe tbody tr th:only-of-type {\n",
       "        vertical-align: middle;\n",
       "    }\n",
       "\n",
       "    .dataframe tbody tr th {\n",
       "        vertical-align: top;\n",
       "    }\n",
       "\n",
       "    .dataframe thead th {\n",
       "        text-align: right;\n",
       "    }\n",
       "</style>\n",
       "<table border=\"1\" class=\"dataframe\">\n",
       "  <thead>\n",
       "    <tr style=\"text-align: right;\">\n",
       "      <th></th>\n",
       "      <th>Date</th>\n",
       "      <th>Group</th>\n",
       "      <th>GF &gt; 1 [straight days]</th>\n",
       "      <th>GF &lt; 1 [straight days]</th>\n",
       "    </tr>\n",
       "  </thead>\n",
       "  <tbody>\n",
       "    <tr>\n",
       "      <th>Czech Republic</th>\n",
       "      <td>2020-08-01</td>\n",
       "      <td>Stopping</td>\n",
       "      <td>0</td>\n",
       "      <td>124</td>\n",
       "    </tr>\n",
       "  </tbody>\n",
       "</table>\n",
       "</div>"
      ],
      "text/plain": [
       "                     Date     Group  GF > 1 [straight days]  \\\n",
       "Czech Republic 2020-08-01  Stopping                       0   \n",
       "\n",
       "                GF < 1 [straight days]  \n",
       "Czech Republic                     124  "
      ]
     },
     "execution_count": 21,
     "metadata": {},
     "output_type": "execute_result"
    }
   ],
   "source": [
    "ger_scenario.growth_factor(days_to_predict=100)"
   ]
  },
  {
   "cell_type": "code",
   "execution_count": 22,
   "metadata": {
    "scrolled": false
   },
   "outputs": [
    {
     "data": {
      "image/png": "[encoded data removed]",
      "text/plain": [
       "<Figure size 432x288 with 1 Axes>"
      ]
     },
     "metadata": {
      "needs_background": "light"
     },
     "output_type": "display_data"
    }
   ],
   "source": [
    "df_sir = ger_scenario.predict(days=600)"
   ]
  },
  {
   "cell_type": "code",
   "execution_count": 23,
   "metadata": {},
   "outputs": [
    {
     "data": {
      "text/html": [
       "<div>\n",
       "<style scoped>\n",
       "    .dataframe tbody tr th:only-of-type {\n",
       "        vertical-align: middle;\n",
       "    }\n",
       "\n",
       "    .dataframe tbody tr th {\n",
       "        vertical-align: top;\n",
       "    }\n",
       "\n",
       "    .dataframe thead th {\n",
       "        text-align: right;\n",
       "    }\n",
       "</style>\n",
       "<table border=\"1\" class=\"dataframe\">\n",
       "  <thead>\n",
       "    <tr style=\"text-align: right;\">\n",
       "      <th></th>\n",
       "      <th>Susceptible</th>\n",
       "      <th>Infected</th>\n",
       "      <th>Recovered/Deaths</th>\n",
       "    </tr>\n",
       "    <tr>\n",
       "      <th>Time</th>\n",
       "      <th></th>\n",
       "      <th></th>\n",
       "      <th></th>\n",
       "    </tr>\n",
       "  </thead>\n",
       "  <tbody>\n",
       "    <tr>\n",
       "      <th>2020-05-02 16:48:00</th>\n",
       "      <td>10639310</td>\n",
       "      <td>5797</td>\n",
       "      <td>4892</td>\n",
       "    </tr>\n",
       "    <tr>\n",
       "      <th>2020-05-03 12:09:00</th>\n",
       "      <td>10639243</td>\n",
       "      <td>5689</td>\n",
       "      <td>5067</td>\n",
       "    </tr>\n",
       "    <tr>\n",
       "      <th>2020-05-04 07:30:00</th>\n",
       "      <td>10639178</td>\n",
       "      <td>5583</td>\n",
       "      <td>5238</td>\n",
       "    </tr>\n",
       "    <tr>\n",
       "      <th>2020-05-05 02:51:00</th>\n",
       "      <td>10639113</td>\n",
       "      <td>5478</td>\n",
       "      <td>5407</td>\n",
       "    </tr>\n",
       "    <tr>\n",
       "      <th>2020-05-05 22:12:00</th>\n",
       "      <td>10639050</td>\n",
       "      <td>5376</td>\n",
       "      <td>5572</td>\n",
       "    </tr>\n",
       "    <tr>\n",
       "      <th>2020-05-06 17:33:00</th>\n",
       "      <td>10638989</td>\n",
       "      <td>5276</td>\n",
       "      <td>5734</td>\n",
       "    </tr>\n",
       "    <tr>\n",
       "      <th>2020-05-07 12:54:00</th>\n",
       "      <td>10638928</td>\n",
       "      <td>5178</td>\n",
       "      <td>5893</td>\n",
       "    </tr>\n",
       "    <tr>\n",
       "      <th>2020-05-08 08:15:00</th>\n",
       "      <td>10638868</td>\n",
       "      <td>5081</td>\n",
       "      <td>6049</td>\n",
       "    </tr>\n",
       "  </tbody>\n",
       "</table>\n",
       "</div>"
      ],
      "text/plain": [
       "                     Susceptible  Infected  Recovered/Deaths\n",
       "Time                                                        \n",
       "2020-05-02 16:48:00     10639310      5797              4892\n",
       "2020-05-03 12:09:00     10639243      5689              5067\n",
       "2020-05-04 07:30:00     10639178      5583              5238\n",
       "2020-05-05 02:51:00     10639113      5478              5407\n",
       "2020-05-05 22:12:00     10639050      5376              5572\n",
       "2020-05-06 17:33:00     10638989      5276              5734\n",
       "2020-05-07 12:54:00     10638928      5178              5893\n",
       "2020-05-08 08:15:00     10638868      5081              6049"
      ]
     },
     "execution_count": 23,
     "metadata": {},
     "output_type": "execute_result"
    }
   ],
   "source": [
    "df_sir.loc['2020-05-02':'2020-05-08']"
   ]
  },
  {
   "cell_type": "markdown",
   "metadata": {},
   "source": [
    "SEIR MODEL"
   ]
  },
  {
   "cell_type": "code",
   "execution_count": 24,
   "metadata": {},
   "outputs": [
    {
     "data": {
      "text/html": [
       "<div>\n",
       "<style scoped>\n",
       "    .dataframe tbody tr th:only-of-type {\n",
       "        vertical-align: middle;\n",
       "    }\n",
       "\n",
       "    .dataframe tbody tr th {\n",
       "        vertical-align: top;\n",
       "    }\n",
       "\n",
       "    .dataframe thead th {\n",
       "        text-align: right;\n",
       "    }\n",
       "</style>\n",
       "<table border=\"1\" class=\"dataframe\">\n",
       "  <thead>\n",
       "    <tr style=\"text-align: right;\">\n",
       "      <th></th>\n",
       "      <th>start_date</th>\n",
       "      <th>end_date</th>\n",
       "      <th>population</th>\n",
       "    </tr>\n",
       "  </thead>\n",
       "  <tbody>\n",
       "    <tr>\n",
       "      <th>1st</th>\n",
       "      <td>25Mar2020</td>\n",
       "      <td>06Apr2020</td>\n",
       "      <td>10650000</td>\n",
       "    </tr>\n",
       "    <tr>\n",
       "      <th>2nd</th>\n",
       "      <td>07Apr2020</td>\n",
       "      <td>21Apr2020</td>\n",
       "      <td>10650000</td>\n",
       "    </tr>\n",
       "    <tr>\n",
       "      <th>3rd</th>\n",
       "      <td>22Apr2020</td>\n",
       "      <td>-</td>\n",
       "      <td>10650000</td>\n",
       "    </tr>\n",
       "  </tbody>\n",
       "</table>\n",
       "</div>"
      ],
      "text/plain": [
       "    start_date   end_date  population\n",
       "1st  25Mar2020  06Apr2020    10650000\n",
       "2nd  07Apr2020  21Apr2020    10650000\n",
       "3rd  22Apr2020          -    10650000"
      ]
     },
     "execution_count": 24,
     "metadata": {},
     "output_type": "execute_result"
    }
   ],
   "source": [
    "ger_scenario.set_phase(\n",
    "    start_dates=[\"25Mar2020\",\"07Apr2020\",\"22Apr2020\"],\n",
    "    population=population_country\n",
    ")"
   ]
  },
  {
   "cell_type": "code",
   "execution_count": 25,
   "metadata": {},
   "outputs": [
    {
     "name": "stdout",
     "output_type": "stream",
     "text": [
      "Hyperparameter estimation of 1st phase.\n",
      "\tEstimator was created.\n",
      "\t\t100 trials finished in 0 min 9 sec.\n",
      "\tSuccessfully estimated.\n",
      "Hyperparameter estimation of 2nd phase.\n",
      "\tEstimator was created.\n",
      "\t\t100 trials finished in 0 min 7 sec.\n",
      "\tSuccessfully estimated.\n",
      "Hyperparameter estimation of 3rd phase.\n",
      "\tEstimator was created.\n",
      "\t\t100 trials finished in 0 min 7 sec.\n",
      "\tSuccessfully estimated.\n",
      "Total: 0 min 25 sec.\n"
     ]
    }
   ],
   "source": [
    "ger_scenario.estimate(model.SIRD)"
   ]
  },
  {
   "cell_type": "code",
   "execution_count": 26,
   "metadata": {},
   "outputs": [
    {
     "data": {
      "text/html": [
       "<div>\n",
       "<style scoped>\n",
       "    .dataframe tbody tr th:only-of-type {\n",
       "        vertical-align: middle;\n",
       "    }\n",
       "\n",
       "    .dataframe tbody tr th {\n",
       "        vertical-align: top;\n",
       "    }\n",
       "\n",
       "    .dataframe thead th {\n",
       "        text-align: right;\n",
       "    }\n",
       "</style>\n",
       "<table border=\"1\" class=\"dataframe\">\n",
       "  <thead>\n",
       "    <tr style=\"text-align: right;\">\n",
       "      <th></th>\n",
       "      <th>start_date</th>\n",
       "      <th>end_date</th>\n",
       "      <th>population</th>\n",
       "      <th>tau</th>\n",
       "      <th>kappa</th>\n",
       "      <th>rho</th>\n",
       "      <th>sigma</th>\n",
       "      <th>Rt</th>\n",
       "      <th>score</th>\n",
       "      <th>1/alpha2 [day]</th>\n",
       "      <th>1/beta [day]</th>\n",
       "      <th>1/gamma [day]</th>\n",
       "    </tr>\n",
       "  </thead>\n",
       "  <tbody>\n",
       "    <tr>\n",
       "      <th>1st</th>\n",
       "      <td>25Mar2020</td>\n",
       "      <td>06Apr2020</td>\n",
       "      <td>10650000</td>\n",
       "      <td>764</td>\n",
       "      <td>0.001042</td>\n",
       "      <td>0.052700</td>\n",
       "      <td>0.001543</td>\n",
       "      <td>20.38</td>\n",
       "      <td>0.266027</td>\n",
       "      <td>509</td>\n",
       "      <td>10</td>\n",
       "      <td>343</td>\n",
       "    </tr>\n",
       "    <tr>\n",
       "      <th>2nd</th>\n",
       "      <td>07Apr2020</td>\n",
       "      <td>21Apr2020</td>\n",
       "      <td>10650000</td>\n",
       "      <td>764</td>\n",
       "      <td>0.000817</td>\n",
       "      <td>0.015009</td>\n",
       "      <td>0.010203</td>\n",
       "      <td>1.36</td>\n",
       "      <td>0.118429</td>\n",
       "      <td>649</td>\n",
       "      <td>35</td>\n",
       "      <td>51</td>\n",
       "    </tr>\n",
       "    <tr>\n",
       "      <th>3rd</th>\n",
       "      <td>22Apr2020</td>\n",
       "      <td>-</td>\n",
       "      <td>10650000</td>\n",
       "      <td>764</td>\n",
       "      <td>0.000431</td>\n",
       "      <td>0.007924</td>\n",
       "      <td>0.019228</td>\n",
       "      <td>0.40</td>\n",
       "      <td>0.015751</td>\n",
       "      <td>1230</td>\n",
       "      <td>66</td>\n",
       "      <td>27</td>\n",
       "    </tr>\n",
       "  </tbody>\n",
       "</table>\n",
       "</div>"
      ],
      "text/plain": [
       "    start_date   end_date  population  tau     kappa       rho     sigma  \\\n",
       "1st  25Mar2020  06Apr2020    10650000  764  0.001042  0.052700  0.001543   \n",
       "2nd  07Apr2020  21Apr2020    10650000  764  0.000817  0.015009  0.010203   \n",
       "3rd  22Apr2020          -    10650000  764  0.000431  0.007924  0.019228   \n",
       "\n",
       "        Rt     score  1/alpha2 [day]  1/beta [day]  1/gamma [day]  \n",
       "1st  20.38  0.266027             509            10            343  \n",
       "2nd   1.36  0.118429             649            35             51  \n",
       "3rd   0.40  0.015751            1230            66             27  "
      ]
     },
     "execution_count": 26,
     "metadata": {},
     "output_type": "execute_result"
    }
   ],
   "source": [
    "ger_scenario.show_parameters()"
   ]
  },
  {
   "cell_type": "code",
   "execution_count": 27,
   "metadata": {},
   "outputs": [
    {
     "name": "stderr",
     "output_type": "stream",
     "text": [
      "../model/model.py:762: UserWarning: Matplotlib is currently using module://ipykernel.pylab.backend_inline, which is a non-GUI backend, so cannot show the figure.\n",
      "  fig.show()\n"
     ]
    },
    {
     "data": {
      "image/png": "[encoded data removed]",
      "text/plain": [
       "<Figure size 648x864 with 4 Axes>"
      ]
     },
     "metadata": {
      "needs_background": "light"
     },
     "output_type": "display_data"
    }
   ],
   "source": [
    "ger_scenario.accuracy_graph(phase_n=1)"
   ]
  },
  {
   "cell_type": "code",
   "execution_count": 28,
   "metadata": {},
   "outputs": [
    {
     "data": {
      "image/png": "[encoded data removed]",
      "text/plain": [
       "<Figure size 432x288 with 1 Axes>"
      ]
     },
     "metadata": {
      "needs_background": "light"
     },
     "output_type": "display_data"
    },
    {
     "data": {
      "text/html": [
       "<div>\n",
       "<style scoped>\n",
       "    .dataframe tbody tr th:only-of-type {\n",
       "        vertical-align: middle;\n",
       "    }\n",
       "\n",
       "    .dataframe tbody tr th {\n",
       "        vertical-align: top;\n",
       "    }\n",
       "\n",
       "    .dataframe thead th {\n",
       "        text-align: right;\n",
       "    }\n",
       "</style>\n",
       "<table border=\"1\" class=\"dataframe\">\n",
       "  <thead>\n",
       "    <tr style=\"text-align: right;\">\n",
       "      <th></th>\n",
       "      <th>Date</th>\n",
       "      <th>Group</th>\n",
       "      <th>GF &gt; 1 [straight days]</th>\n",
       "      <th>GF &lt; 1 [straight days]</th>\n",
       "    </tr>\n",
       "  </thead>\n",
       "  <tbody>\n",
       "    <tr>\n",
       "      <th>Czech Republic</th>\n",
       "      <td>2020-07-31 09:28:00</td>\n",
       "      <td>Crossroad</td>\n",
       "      <td>0</td>\n",
       "      <td>1</td>\n",
       "    </tr>\n",
       "  </tbody>\n",
       "</table>\n",
       "</div>"
      ],
      "text/plain": [
       "                              Date      Group  GF > 1 [straight days]  \\\n",
       "Czech Republic 2020-07-31 09:28:00  Crossroad                       0   \n",
       "\n",
       "                GF < 1 [straight days]  \n",
       "Czech Republic                       1  "
      ]
     },
     "execution_count": 28,
     "metadata": {},
     "output_type": "execute_result"
    }
   ],
   "source": [
    "ger_scenario.growth_factor(days_to_predict=100)"
   ]
  },
  {
   "cell_type": "code",
   "execution_count": 29,
   "metadata": {},
   "outputs": [
    {
     "data": {
      "image/png": "[encoded data removed]",
      "text/plain": [
       "<Figure size 432x288 with 1 Axes>"
      ]
     },
     "metadata": {
      "needs_background": "light"
     },
     "output_type": "display_data"
    }
   ],
   "source": [
    "df_seir = ger_scenario.predict(days=600)"
   ]
  },
  {
   "cell_type": "code",
   "execution_count": 30,
   "metadata": {},
   "outputs": [
    {
     "data": {
      "text/html": [
       "<div>\n",
       "<style scoped>\n",
       "    .dataframe tbody tr th:only-of-type {\n",
       "        vertical-align: middle;\n",
       "    }\n",
       "\n",
       "    .dataframe tbody tr th {\n",
       "        vertical-align: top;\n",
       "    }\n",
       "\n",
       "    .dataframe thead th {\n",
       "        text-align: right;\n",
       "    }\n",
       "</style>\n",
       "<table border=\"1\" class=\"dataframe\">\n",
       "  <thead>\n",
       "    <tr style=\"text-align: right;\">\n",
       "      <th></th>\n",
       "      <th>Susceptible</th>\n",
       "      <th>Infected</th>\n",
       "      <th>Recovered</th>\n",
       "      <th>Deaths</th>\n",
       "    </tr>\n",
       "    <tr>\n",
       "      <th>Time</th>\n",
       "      <th></th>\n",
       "      <th></th>\n",
       "      <th></th>\n",
       "      <th></th>\n",
       "    </tr>\n",
       "  </thead>\n",
       "  <tbody>\n",
       "    <tr>\n",
       "      <th>2020-05-02 04:48:00</th>\n",
       "      <td>10640572</td>\n",
       "      <td>5206</td>\n",
       "      <td>3940</td>\n",
       "      <td>280</td>\n",
       "    </tr>\n",
       "    <tr>\n",
       "      <th>2020-05-02 17:32:00</th>\n",
       "      <td>10640531</td>\n",
       "      <td>5146</td>\n",
       "      <td>4039</td>\n",
       "      <td>282</td>\n",
       "    </tr>\n",
       "    <tr>\n",
       "      <th>2020-05-03 06:16:00</th>\n",
       "      <td>10640491</td>\n",
       "      <td>5085</td>\n",
       "      <td>4138</td>\n",
       "      <td>284</td>\n",
       "    </tr>\n",
       "    <tr>\n",
       "      <th>2020-05-03 19:00:00</th>\n",
       "      <td>10640451</td>\n",
       "      <td>5026</td>\n",
       "      <td>4235</td>\n",
       "      <td>286</td>\n",
       "    </tr>\n",
       "    <tr>\n",
       "      <th>2020-05-04 07:44:00</th>\n",
       "      <td>10640411</td>\n",
       "      <td>4967</td>\n",
       "      <td>4331</td>\n",
       "      <td>288</td>\n",
       "    </tr>\n",
       "    <tr>\n",
       "      <th>2020-05-04 20:28:00</th>\n",
       "      <td>10640372</td>\n",
       "      <td>4909</td>\n",
       "      <td>4426</td>\n",
       "      <td>290</td>\n",
       "    </tr>\n",
       "    <tr>\n",
       "      <th>2020-05-05 09:12:00</th>\n",
       "      <td>10640333</td>\n",
       "      <td>4852</td>\n",
       "      <td>4520</td>\n",
       "      <td>293</td>\n",
       "    </tr>\n",
       "    <tr>\n",
       "      <th>2020-05-05 21:56:00</th>\n",
       "      <td>10640295</td>\n",
       "      <td>4795</td>\n",
       "      <td>4613</td>\n",
       "      <td>295</td>\n",
       "    </tr>\n",
       "    <tr>\n",
       "      <th>2020-05-06 10:40:00</th>\n",
       "      <td>10640258</td>\n",
       "      <td>4739</td>\n",
       "      <td>4704</td>\n",
       "      <td>297</td>\n",
       "    </tr>\n",
       "    <tr>\n",
       "      <th>2020-05-06 23:24:00</th>\n",
       "      <td>10640220</td>\n",
       "      <td>4684</td>\n",
       "      <td>4795</td>\n",
       "      <td>299</td>\n",
       "    </tr>\n",
       "    <tr>\n",
       "      <th>2020-05-07 12:08:00</th>\n",
       "      <td>10640183</td>\n",
       "      <td>4629</td>\n",
       "      <td>4885</td>\n",
       "      <td>301</td>\n",
       "    </tr>\n",
       "    <tr>\n",
       "      <th>2020-05-08 00:52:00</th>\n",
       "      <td>10640147</td>\n",
       "      <td>4575</td>\n",
       "      <td>4973</td>\n",
       "      <td>303</td>\n",
       "    </tr>\n",
       "    <tr>\n",
       "      <th>2020-05-08 13:36:00</th>\n",
       "      <td>10640111</td>\n",
       "      <td>4522</td>\n",
       "      <td>5060</td>\n",
       "      <td>305</td>\n",
       "    </tr>\n",
       "  </tbody>\n",
       "</table>\n",
       "</div>"
      ],
      "text/plain": [
       "                     Susceptible  Infected  Recovered  Deaths\n",
       "Time                                                         \n",
       "2020-05-02 04:48:00     10640572      5206       3940     280\n",
       "2020-05-02 17:32:00     10640531      5146       4039     282\n",
       "2020-05-03 06:16:00     10640491      5085       4138     284\n",
       "2020-05-03 19:00:00     10640451      5026       4235     286\n",
       "2020-05-04 07:44:00     10640411      4967       4331     288\n",
       "2020-05-04 20:28:00     10640372      4909       4426     290\n",
       "2020-05-05 09:12:00     10640333      4852       4520     293\n",
       "2020-05-05 21:56:00     10640295      4795       4613     295\n",
       "2020-05-06 10:40:00     10640258      4739       4704     297\n",
       "2020-05-06 23:24:00     10640220      4684       4795     299\n",
       "2020-05-07 12:08:00     10640183      4629       4885     301\n",
       "2020-05-08 00:52:00     10640147      4575       4973     303\n",
       "2020-05-08 13:36:00     10640111      4522       5060     305"
      ]
     },
     "execution_count": 30,
     "metadata": {},
     "output_type": "execute_result"
    }
   ],
   "source": [
    "df_seir.loc['2020-05-02':'2020-05-08']"
   ]
  },
  {
   "cell_type": "markdown",
   "metadata": {},
   "source": [
    "SEIRD MODEL"
   ]
  },
  {
   "cell_type": "code",
   "execution_count": 31,
   "metadata": {},
   "outputs": [
    {
     "name": "stdout",
     "output_type": "stream",
     "text": [
      "Hyperparameter estimation of 1st phase.\n",
      "\tEstimator was created.\n",
      "\t\t100 trials finished in 0 min 9 sec.\n",
      "\t\t100 trials finished in 0 min 9 sec.\n",
      "\t\t100 trials finished in 0 min 12 sec.\n",
      "\tSuccessfully estimated.\n",
      "Hyperparameter estimation of 2nd phase.\n",
      "\tEstimator was created.\n",
      "\t\t100 trials finished in 0 min 8 sec.\n",
      "\tSuccessfully estimated.\n",
      "Hyperparameter estimation of 3rd phase.\n",
      "\tEstimator was created.\n",
      "\t\t100 trials finished in 0 min 8 sec.\n",
      "\t\t100 trials finished in 0 min 9 sec.\n",
      "\t\t100 trials finished in 0 min 9 sec.\n",
      "\t\t100 trials finished in 0 min 10 sec.\n",
      "\tSuccessfully estimated.\n",
      "Total: 1 min 17 sec.\n"
     ]
    }
   ],
   "source": [
    "ger_scenario.estimate(model.SIRF)"
   ]
  },
  {
   "cell_type": "code",
   "execution_count": 32,
   "metadata": {},
   "outputs": [
    {
     "data": {
      "text/html": [
       "<div>\n",
       "<style scoped>\n",
       "    .dataframe tbody tr th:only-of-type {\n",
       "        vertical-align: middle;\n",
       "    }\n",
       "\n",
       "    .dataframe tbody tr th {\n",
       "        vertical-align: top;\n",
       "    }\n",
       "\n",
       "    .dataframe thead th {\n",
       "        text-align: right;\n",
       "    }\n",
       "</style>\n",
       "<table border=\"1\" class=\"dataframe\">\n",
       "  <thead>\n",
       "    <tr style=\"text-align: right;\">\n",
       "      <th></th>\n",
       "      <th>start_date</th>\n",
       "      <th>end_date</th>\n",
       "      <th>population</th>\n",
       "      <th>tau</th>\n",
       "      <th>theta</th>\n",
       "      <th>kappa</th>\n",
       "      <th>rho</th>\n",
       "      <th>sigma</th>\n",
       "      <th>Rt</th>\n",
       "      <th>score</th>\n",
       "      <th>alpha1 [-]</th>\n",
       "      <th>1/alpha2 [day]</th>\n",
       "      <th>1/beta [day]</th>\n",
       "      <th>1/gamma [day]</th>\n",
       "    </tr>\n",
       "  </thead>\n",
       "  <tbody>\n",
       "    <tr>\n",
       "      <th>1st</th>\n",
       "      <td>25Mar2020</td>\n",
       "      <td>06Apr2020</td>\n",
       "      <td>10650000</td>\n",
       "      <td>1304</td>\n",
       "      <td>0.026351</td>\n",
       "      <td>0.000191</td>\n",
       "      <td>0.081561</td>\n",
       "      <td>0.002823</td>\n",
       "      <td>26.35</td>\n",
       "      <td>0.316843</td>\n",
       "      <td>0.026</td>\n",
       "      <td>4747</td>\n",
       "      <td>11</td>\n",
       "      <td>320</td>\n",
       "    </tr>\n",
       "    <tr>\n",
       "      <th>2nd</th>\n",
       "      <td>07Apr2020</td>\n",
       "      <td>21Apr2020</td>\n",
       "      <td>10650000</td>\n",
       "      <td>1304</td>\n",
       "      <td>0.022543</td>\n",
       "      <td>0.001092</td>\n",
       "      <td>0.026662</td>\n",
       "      <td>0.018884</td>\n",
       "      <td>1.30</td>\n",
       "      <td>0.118300</td>\n",
       "      <td>0.023</td>\n",
       "      <td>829</td>\n",
       "      <td>33</td>\n",
       "      <td>47</td>\n",
       "    </tr>\n",
       "    <tr>\n",
       "      <th>3rd</th>\n",
       "      <td>22Apr2020</td>\n",
       "      <td>-</td>\n",
       "      <td>10650000</td>\n",
       "      <td>1304</td>\n",
       "      <td>0.024422</td>\n",
       "      <td>0.000260</td>\n",
       "      <td>0.014006</td>\n",
       "      <td>0.035251</td>\n",
       "      <td>0.38</td>\n",
       "      <td>0.015068</td>\n",
       "      <td>0.024</td>\n",
       "      <td>3488</td>\n",
       "      <td>64</td>\n",
       "      <td>25</td>\n",
       "    </tr>\n",
       "  </tbody>\n",
       "</table>\n",
       "</div>"
      ],
      "text/plain": [
       "    start_date   end_date  population   tau     theta     kappa       rho  \\\n",
       "1st  25Mar2020  06Apr2020    10650000  1304  0.026351  0.000191  0.081561   \n",
       "2nd  07Apr2020  21Apr2020    10650000  1304  0.022543  0.001092  0.026662   \n",
       "3rd  22Apr2020          -    10650000  1304  0.024422  0.000260  0.014006   \n",
       "\n",
       "        sigma     Rt     score  alpha1 [-]  1/alpha2 [day]  1/beta [day]  \\\n",
       "1st  0.002823  26.35  0.316843       0.026            4747            11   \n",
       "2nd  0.018884   1.30  0.118300       0.023             829            33   \n",
       "3rd  0.035251   0.38  0.015068       0.024            3488            64   \n",
       "\n",
       "     1/gamma [day]  \n",
       "1st            320  \n",
       "2nd             47  \n",
       "3rd             25  "
      ]
     },
     "execution_count": 32,
     "metadata": {},
     "output_type": "execute_result"
    }
   ],
   "source": [
    "ger_scenario.show_parameters()"
   ]
  },
  {
   "cell_type": "code",
   "execution_count": 33,
   "metadata": {},
   "outputs": [
    {
     "data": {
      "image/png": "[encoded data removed]",
      "text/plain": [
       "<Figure size 432x288 with 1 Axes>"
      ]
     },
     "metadata": {
      "needs_background": "light"
     },
     "output_type": "display_data"
    },
    {
     "data": {
      "text/html": [
       "<div>\n",
       "<style scoped>\n",
       "    .dataframe tbody tr th:only-of-type {\n",
       "        vertical-align: middle;\n",
       "    }\n",
       "\n",
       "    .dataframe tbody tr th {\n",
       "        vertical-align: top;\n",
       "    }\n",
       "\n",
       "    .dataframe thead th {\n",
       "        text-align: right;\n",
       "    }\n",
       "</style>\n",
       "<table border=\"1\" class=\"dataframe\">\n",
       "  <thead>\n",
       "    <tr style=\"text-align: right;\">\n",
       "      <th></th>\n",
       "      <th>Date</th>\n",
       "      <th>Group</th>\n",
       "      <th>GF &gt; 1 [straight days]</th>\n",
       "      <th>GF &lt; 1 [straight days]</th>\n",
       "    </tr>\n",
       "  </thead>\n",
       "  <tbody>\n",
       "    <tr>\n",
       "      <th>Czech Republic</th>\n",
       "      <td>2020-07-31 14:08:00</td>\n",
       "      <td>Stopping</td>\n",
       "      <td>0</td>\n",
       "      <td>110</td>\n",
       "    </tr>\n",
       "  </tbody>\n",
       "</table>\n",
       "</div>"
      ],
      "text/plain": [
       "                              Date     Group  GF > 1 [straight days]  \\\n",
       "Czech Republic 2020-07-31 14:08:00  Stopping                       0   \n",
       "\n",
       "                GF < 1 [straight days]  \n",
       "Czech Republic                     110  "
      ]
     },
     "execution_count": 33,
     "metadata": {},
     "output_type": "execute_result"
    }
   ],
   "source": [
    "ger_scenario.growth_factor(days_to_predict=100)"
   ]
  },
  {
   "cell_type": "code",
   "execution_count": 34,
   "metadata": {},
   "outputs": [
    {
     "data": {
      "image/png": "[encoded data removed]",
      "text/plain": [
       "<Figure size 432x288 with 1 Axes>"
      ]
     },
     "metadata": {
      "needs_background": "light"
     },
     "output_type": "display_data"
    }
   ],
   "source": [
    "df_seird = ger_scenario.predict(days=600)"
   ]
  },
  {
   "cell_type": "code",
   "execution_count": 36,
   "metadata": {},
   "outputs": [
    {
     "data": {
      "text/html": [
       "<div>\n",
       "<style scoped>\n",
       "    .dataframe tbody tr th:only-of-type {\n",
       "        vertical-align: middle;\n",
       "    }\n",
       "\n",
       "    .dataframe tbody tr th {\n",
       "        vertical-align: top;\n",
       "    }\n",
       "\n",
       "    .dataframe thead th {\n",
       "        text-align: right;\n",
       "    }\n",
       "</style>\n",
       "<table border=\"1\" class=\"dataframe\">\n",
       "  <thead>\n",
       "    <tr style=\"text-align: right;\">\n",
       "      <th></th>\n",
       "      <th>Susceptible</th>\n",
       "      <th>Infected</th>\n",
       "      <th>Recovered</th>\n",
       "      <th>Fatal</th>\n",
       "      <th>Confirmed</th>\n",
       "    </tr>\n",
       "    <tr>\n",
       "      <th>Time</th>\n",
       "      <th></th>\n",
       "      <th></th>\n",
       "      <th></th>\n",
       "      <th></th>\n",
       "      <th></th>\n",
       "    </tr>\n",
       "  </thead>\n",
       "  <tbody>\n",
       "    <tr>\n",
       "      <th>2020-05-02 00:48:00</th>\n",
       "      <td>10641420</td>\n",
       "      <td>4589</td>\n",
       "      <td>3690</td>\n",
       "      <td>300</td>\n",
       "      <td>8579</td>\n",
       "    </tr>\n",
       "    <tr>\n",
       "      <th>2020-05-02 22:32:00</th>\n",
       "      <td>10641356</td>\n",
       "      <td>4489</td>\n",
       "      <td>3850</td>\n",
       "      <td>303</td>\n",
       "      <td>8642</td>\n",
       "    </tr>\n",
       "    <tr>\n",
       "      <th>2020-05-03 20:16:00</th>\n",
       "      <td>10641294</td>\n",
       "      <td>4392</td>\n",
       "      <td>4006</td>\n",
       "      <td>305</td>\n",
       "      <td>8703</td>\n",
       "    </tr>\n",
       "    <tr>\n",
       "      <th>2020-05-04 18:00:00</th>\n",
       "      <td>10641233</td>\n",
       "      <td>4297</td>\n",
       "      <td>4159</td>\n",
       "      <td>308</td>\n",
       "      <td>8764</td>\n",
       "    </tr>\n",
       "    <tr>\n",
       "      <th>2020-05-05 15:44:00</th>\n",
       "      <td>10641174</td>\n",
       "      <td>4204</td>\n",
       "      <td>4309</td>\n",
       "      <td>311</td>\n",
       "      <td>8824</td>\n",
       "    </tr>\n",
       "    <tr>\n",
       "      <th>2020-05-06 13:28:00</th>\n",
       "      <td>10641116</td>\n",
       "      <td>4113</td>\n",
       "      <td>4456</td>\n",
       "      <td>313</td>\n",
       "      <td>8882</td>\n",
       "    </tr>\n",
       "    <tr>\n",
       "      <th>2020-05-07 11:12:00</th>\n",
       "      <td>10641059</td>\n",
       "      <td>4025</td>\n",
       "      <td>4599</td>\n",
       "      <td>316</td>\n",
       "      <td>8940</td>\n",
       "    </tr>\n",
       "    <tr>\n",
       "      <th>2020-05-08 08:56:00</th>\n",
       "      <td>10641003</td>\n",
       "      <td>3938</td>\n",
       "      <td>4740</td>\n",
       "      <td>318</td>\n",
       "      <td>8996</td>\n",
       "    </tr>\n",
       "  </tbody>\n",
       "</table>\n",
       "</div>"
      ],
      "text/plain": [
       "                     Susceptible  Infected  Recovered  Fatal  Confirmed\n",
       "Time                                                                   \n",
       "2020-05-02 00:48:00     10641420      4589       3690    300       8579\n",
       "2020-05-02 22:32:00     10641356      4489       3850    303       8642\n",
       "2020-05-03 20:16:00     10641294      4392       4006    305       8703\n",
       "2020-05-04 18:00:00     10641233      4297       4159    308       8764\n",
       "2020-05-05 15:44:00     10641174      4204       4309    311       8824\n",
       "2020-05-06 13:28:00     10641116      4113       4456    313       8882\n",
       "2020-05-07 11:12:00     10641059      4025       4599    316       8940\n",
       "2020-05-08 08:56:00     10641003      3938       4740    318       8996"
      ]
     },
     "execution_count": 36,
     "metadata": {},
     "output_type": "execute_result"
    }
   ],
   "source": [
    "df_seird.loc['2020-05-02':'2020-05-08']"
   ]
  },
  {
   "cell_type": "markdown",
   "metadata": {},
   "source": [
    "SEWIRF"
   ]
  },
  {
   "cell_type": "code",
   "execution_count": 37,
   "metadata": {},
   "outputs": [
    {
     "name": "stdout",
     "output_type": "stream",
     "text": [
      "Hyperparameter estimation of 1st phase.\n",
      "\tEstimator was created.\n",
      "\t\t100 trials finished in 0 min 11 sec.\n",
      "\t\t100 trials finished in 0 min 11 sec.\n",
      "\t\t100 trials finished in 0 min 13 sec.\n",
      "\t\t100 trials finished in 0 min 15 sec.\n",
      "\t\t100 trials finished in 0 min 16 sec.\n",
      "\t\t100 trials finished in 0 min 17 sec.\n",
      "\t\t100 trials finished in 0 min 18 sec.\n",
      "\t\t100 trials finished in 0 min 19 sec.\n",
      "\t\t100 trials finished in 0 min 20 sec.\n",
      "\t\t100 trials finished in 0 min 22 sec.\n",
      "\t\t100 trials finished in 0 min 23 sec.\n",
      "\tSuccessfully estimated.\n",
      "Hyperparameter estimation of 2nd phase.\n",
      "\tEstimator was created.\n",
      "\t\t100 trials finished in 0 min 9 sec.\n",
      "\t\t100 trials finished in 0 min 10 sec.\n",
      "\t\t100 trials finished in 0 min 11 sec.\n",
      "\tEstimator will be replaced because estimated w is non-monotonic.\n",
      "\tEstimator was created.\n",
      "\t\t100 trials finished in 0 min 9 sec.\n",
      "\tSuccessfully estimated.\n",
      "Hyperparameter estimation of 3rd phase.\n",
      "\tEstimator was created.\n",
      "\t\t100 trials finished in 0 min 9 sec.\n",
      "\t\t100 trials finished in 0 min 10 sec.\n",
      "\t\t100 trials finished in 0 min 11 sec.\n",
      "\t\t100 trials finished in 0 min 12 sec.\n",
      "\tSuccessfully estimated.\n",
      "Total: 4 min 33 sec.\n"
     ]
    }
   ],
   "source": [
    "ger_scenario.estimate(model.SEWIRF)"
   ]
  },
  {
   "cell_type": "code",
   "execution_count": 38,
   "metadata": {},
   "outputs": [
    {
     "data": {
      "text/html": [
       "<div>\n",
       "<style scoped>\n",
       "    .dataframe tbody tr th:only-of-type {\n",
       "        vertical-align: middle;\n",
       "    }\n",
       "\n",
       "    .dataframe tbody tr th {\n",
       "        vertical-align: top;\n",
       "    }\n",
       "\n",
       "    .dataframe thead th {\n",
       "        text-align: right;\n",
       "    }\n",
       "</style>\n",
       "<table border=\"1\" class=\"dataframe\">\n",
       "  <thead>\n",
       "    <tr style=\"text-align: right;\">\n",
       "      <th></th>\n",
       "      <th>start_date</th>\n",
       "      <th>end_date</th>\n",
       "      <th>population</th>\n",
       "      <th>tau</th>\n",
       "      <th>theta</th>\n",
       "      <th>kappa</th>\n",
       "      <th>rho1</th>\n",
       "      <th>rho2</th>\n",
       "      <th>rho3</th>\n",
       "      <th>sigma</th>\n",
       "      <th>Rt</th>\n",
       "      <th>score</th>\n",
       "      <th>alpha1 [-]</th>\n",
       "      <th>1/alpha2 [day]</th>\n",
       "      <th>1/beta1 [day]</th>\n",
       "      <th>1/beta2 [day]</th>\n",
       "      <th>1/beta3 [day]</th>\n",
       "      <th>1/gamma [day]</th>\n",
       "    </tr>\n",
       "  </thead>\n",
       "  <tbody>\n",
       "    <tr>\n",
       "      <th>1st</th>\n",
       "      <td>25Mar2020</td>\n",
       "      <td>06Apr2020</td>\n",
       "      <td>10650000</td>\n",
       "      <td>814</td>\n",
       "      <td>0.000742</td>\n",
       "      <td>0.000944</td>\n",
       "      <td>0.109950</td>\n",
       "      <td>0.666143</td>\n",
       "      <td>0.125635</td>\n",
       "      <td>0.001750</td>\n",
       "      <td>40.78</td>\n",
       "      <td>0.311652</td>\n",
       "      <td>0.001</td>\n",
       "      <td>598</td>\n",
       "      <td>5</td>\n",
       "      <td>0</td>\n",
       "      <td>4</td>\n",
       "      <td>322</td>\n",
       "    </tr>\n",
       "    <tr>\n",
       "      <th>2nd</th>\n",
       "      <td>07Apr2020</td>\n",
       "      <td>21Apr2020</td>\n",
       "      <td>10650000</td>\n",
       "      <td>814</td>\n",
       "      <td>0.285967</td>\n",
       "      <td>0.000117</td>\n",
       "      <td>0.089106</td>\n",
       "      <td>0.004708</td>\n",
       "      <td>0.326633</td>\n",
       "      <td>0.014523</td>\n",
       "      <td>4.35</td>\n",
       "      <td>0.255110</td>\n",
       "      <td>0.286</td>\n",
       "      <td>4834</td>\n",
       "      <td>6</td>\n",
       "      <td>120</td>\n",
       "      <td>1</td>\n",
       "      <td>38</td>\n",
       "    </tr>\n",
       "    <tr>\n",
       "      <th>3rd</th>\n",
       "      <td>22Apr2020</td>\n",
       "      <td>-</td>\n",
       "      <td>10650000</td>\n",
       "      <td>814</td>\n",
       "      <td>0.047856</td>\n",
       "      <td>0.000350</td>\n",
       "      <td>0.105412</td>\n",
       "      <td>0.020080</td>\n",
       "      <td>0.297609</td>\n",
       "      <td>0.019890</td>\n",
       "      <td>4.96</td>\n",
       "      <td>0.037151</td>\n",
       "      <td>0.048</td>\n",
       "      <td>1613</td>\n",
       "      <td>5</td>\n",
       "      <td>28</td>\n",
       "      <td>1</td>\n",
       "      <td>28</td>\n",
       "    </tr>\n",
       "  </tbody>\n",
       "</table>\n",
       "</div>"
      ],
      "text/plain": [
       "    start_date   end_date  population  tau     theta     kappa      rho1  \\\n",
       "1st  25Mar2020  06Apr2020    10650000  814  0.000742  0.000944  0.109950   \n",
       "2nd  07Apr2020  21Apr2020    10650000  814  0.285967  0.000117  0.089106   \n",
       "3rd  22Apr2020          -    10650000  814  0.047856  0.000350  0.105412   \n",
       "\n",
       "         rho2      rho3     sigma     Rt     score  alpha1 [-]  \\\n",
       "1st  0.666143  0.125635  0.001750  40.78  0.311652       0.001   \n",
       "2nd  0.004708  0.326633  0.014523   4.35  0.255110       0.286   \n",
       "3rd  0.020080  0.297609  0.019890   4.96  0.037151       0.048   \n",
       "\n",
       "     1/alpha2 [day]  1/beta1 [day]  1/beta2 [day]  1/beta3 [day]  \\\n",
       "1st             598              5              0              4   \n",
       "2nd            4834              6            120              1   \n",
       "3rd            1613              5             28              1   \n",
       "\n",
       "     1/gamma [day]  \n",
       "1st            322  \n",
       "2nd             38  \n",
       "3rd             28  "
      ]
     },
     "execution_count": 38,
     "metadata": {},
     "output_type": "execute_result"
    }
   ],
   "source": [
    "ger_scenario.show_parameters()"
   ]
  },
  {
   "cell_type": "code",
   "execution_count": 39,
   "metadata": {},
   "outputs": [
    {
     "data": {
      "image/png": "[encoded data removed]",
      "text/plain": [
       "<Figure size 432x288 with 1 Axes>"
      ]
     },
     "metadata": {
      "needs_background": "light"
     },
     "output_type": "display_data"
    },
    {
     "data": {
      "text/html": [
       "<div>\n",
       "<style scoped>\n",
       "    .dataframe tbody tr th:only-of-type {\n",
       "        vertical-align: middle;\n",
       "    }\n",
       "\n",
       "    .dataframe tbody tr th {\n",
       "        vertical-align: top;\n",
       "    }\n",
       "\n",
       "    .dataframe thead th {\n",
       "        text-align: right;\n",
       "    }\n",
       "</style>\n",
       "<table border=\"1\" class=\"dataframe\">\n",
       "  <thead>\n",
       "    <tr style=\"text-align: right;\">\n",
       "      <th></th>\n",
       "      <th>Date</th>\n",
       "      <th>Group</th>\n",
       "      <th>GF &gt; 1 [straight days]</th>\n",
       "      <th>GF &lt; 1 [straight days]</th>\n",
       "    </tr>\n",
       "  </thead>\n",
       "  <tbody>\n",
       "    <tr>\n",
       "      <th>Czech Republic</th>\n",
       "      <td>2020-07-30 18:04:00</td>\n",
       "      <td>Outbreaking</td>\n",
       "      <td>168</td>\n",
       "      <td>0</td>\n",
       "    </tr>\n",
       "  </tbody>\n",
       "</table>\n",
       "</div>"
      ],
      "text/plain": [
       "                              Date        Group  GF > 1 [straight days]  \\\n",
       "Czech Republic 2020-07-30 18:04:00  Outbreaking                     168   \n",
       "\n",
       "                GF < 1 [straight days]  \n",
       "Czech Republic                       0  "
      ]
     },
     "execution_count": 39,
     "metadata": {},
     "output_type": "execute_result"
    }
   ],
   "source": [
    "ger_scenario.growth_factor(days_to_predict=100)"
   ]
  },
  {
   "cell_type": "code",
   "execution_count": 40,
   "metadata": {},
   "outputs": [
    {
     "data": {
      "image/png": "[encoded data removed]",
      "text/plain": [
       "<Figure size 432x288 with 1 Axes>"
      ]
     },
     "metadata": {
      "needs_background": "light"
     },
     "output_type": "display_data"
    }
   ],
   "source": [
    "df_sewirf = ger_scenario.predict(days=600)"
   ]
  },
  {
   "cell_type": "code",
   "execution_count": 41,
   "metadata": {},
   "outputs": [
    {
     "data": {
      "text/html": [
       "<div>\n",
       "<style scoped>\n",
       "    .dataframe tbody tr th:only-of-type {\n",
       "        vertical-align: middle;\n",
       "    }\n",
       "\n",
       "    .dataframe tbody tr th {\n",
       "        vertical-align: top;\n",
       "    }\n",
       "\n",
       "    .dataframe thead th {\n",
       "        text-align: right;\n",
       "    }\n",
       "</style>\n",
       "<table border=\"1\" class=\"dataframe\">\n",
       "  <thead>\n",
       "    <tr style=\"text-align: right;\">\n",
       "      <th></th>\n",
       "      <th>Susceptible</th>\n",
       "      <th>Infected</th>\n",
       "      <th>Recovered</th>\n",
       "      <th>Fatal</th>\n",
       "      <th>Exposed</th>\n",
       "      <th>Waiting</th>\n",
       "      <th>Confirmed</th>\n",
       "    </tr>\n",
       "    <tr>\n",
       "      <th>Time</th>\n",
       "      <th></th>\n",
       "      <th></th>\n",
       "      <th></th>\n",
       "      <th></th>\n",
       "      <th></th>\n",
       "      <th></th>\n",
       "      <th></th>\n",
       "    </tr>\n",
       "  </thead>\n",
       "  <tbody>\n",
       "    <tr>\n",
       "      <th>2020-05-02 10:32:00</th>\n",
       "      <td>10588610</td>\n",
       "      <td>13092</td>\n",
       "      <td>7447</td>\n",
       "      <td>2583</td>\n",
       "      <td>36019</td>\n",
       "      <td>2245</td>\n",
       "      <td>23122</td>\n",
       "    </tr>\n",
       "    <tr>\n",
       "      <th>2020-05-03 00:06:00</th>\n",
       "      <td>10586980</td>\n",
       "      <td>13468</td>\n",
       "      <td>7711</td>\n",
       "      <td>2620</td>\n",
       "      <td>36917</td>\n",
       "      <td>2300</td>\n",
       "      <td>23799</td>\n",
       "    </tr>\n",
       "    <tr>\n",
       "      <th>2020-05-03 13:40:00</th>\n",
       "      <td>10585304</td>\n",
       "      <td>13853</td>\n",
       "      <td>7983</td>\n",
       "      <td>2658</td>\n",
       "      <td>37842</td>\n",
       "      <td>2356</td>\n",
       "      <td>24494</td>\n",
       "    </tr>\n",
       "    <tr>\n",
       "      <th>2020-05-04 03:14:00</th>\n",
       "      <td>10583583</td>\n",
       "      <td>14247</td>\n",
       "      <td>8262</td>\n",
       "      <td>2697</td>\n",
       "      <td>38794</td>\n",
       "      <td>2413</td>\n",
       "      <td>25206</td>\n",
       "    </tr>\n",
       "    <tr>\n",
       "      <th>2020-05-04 16:48:00</th>\n",
       "      <td>10581813</td>\n",
       "      <td>14649</td>\n",
       "      <td>8550</td>\n",
       "      <td>2737</td>\n",
       "      <td>39775</td>\n",
       "      <td>2473</td>\n",
       "      <td>25936</td>\n",
       "    </tr>\n",
       "    <tr>\n",
       "      <th>2020-05-05 06:22:00</th>\n",
       "      <td>10579995</td>\n",
       "      <td>15058</td>\n",
       "      <td>8845</td>\n",
       "      <td>2778</td>\n",
       "      <td>40784</td>\n",
       "      <td>2537</td>\n",
       "      <td>26681</td>\n",
       "    </tr>\n",
       "    <tr>\n",
       "      <th>2020-05-05 19:56:00</th>\n",
       "      <td>10578128</td>\n",
       "      <td>15476</td>\n",
       "      <td>9149</td>\n",
       "      <td>2820</td>\n",
       "      <td>41822</td>\n",
       "      <td>2603</td>\n",
       "      <td>27445</td>\n",
       "    </tr>\n",
       "    <tr>\n",
       "      <th>2020-05-06 09:30:00</th>\n",
       "      <td>10576209</td>\n",
       "      <td>15903</td>\n",
       "      <td>9461</td>\n",
       "      <td>2863</td>\n",
       "      <td>42890</td>\n",
       "      <td>2671</td>\n",
       "      <td>28227</td>\n",
       "    </tr>\n",
       "    <tr>\n",
       "      <th>2020-05-06 23:04:00</th>\n",
       "      <td>10574238</td>\n",
       "      <td>16341</td>\n",
       "      <td>9782</td>\n",
       "      <td>2907</td>\n",
       "      <td>43989</td>\n",
       "      <td>2740</td>\n",
       "      <td>29030</td>\n",
       "    </tr>\n",
       "    <tr>\n",
       "      <th>2020-05-07 12:38:00</th>\n",
       "      <td>10572214</td>\n",
       "      <td>16791</td>\n",
       "      <td>10111</td>\n",
       "      <td>2952</td>\n",
       "      <td>45118</td>\n",
       "      <td>2810</td>\n",
       "      <td>29854</td>\n",
       "    </tr>\n",
       "    <tr>\n",
       "      <th>2020-05-08 02:12:00</th>\n",
       "      <td>10570136</td>\n",
       "      <td>17252</td>\n",
       "      <td>10450</td>\n",
       "      <td>2999</td>\n",
       "      <td>46279</td>\n",
       "      <td>2881</td>\n",
       "      <td>30701</td>\n",
       "    </tr>\n",
       "    <tr>\n",
       "      <th>2020-05-08 15:46:00</th>\n",
       "      <td>10568001</td>\n",
       "      <td>17726</td>\n",
       "      <td>10798</td>\n",
       "      <td>3047</td>\n",
       "      <td>47473</td>\n",
       "      <td>2953</td>\n",
       "      <td>31571</td>\n",
       "    </tr>\n",
       "  </tbody>\n",
       "</table>\n",
       "</div>"
      ],
      "text/plain": [
       "                     Susceptible  Infected  Recovered  Fatal  Exposed  \\\n",
       "Time                                                                    \n",
       "2020-05-02 10:32:00     10588610     13092       7447   2583    36019   \n",
       "2020-05-03 00:06:00     10586980     13468       7711   2620    36917   \n",
       "2020-05-03 13:40:00     10585304     13853       7983   2658    37842   \n",
       "2020-05-04 03:14:00     10583583     14247       8262   2697    38794   \n",
       "2020-05-04 16:48:00     10581813     14649       8550   2737    39775   \n",
       "2020-05-05 06:22:00     10579995     15058       8845   2778    40784   \n",
       "2020-05-05 19:56:00     10578128     15476       9149   2820    41822   \n",
       "2020-05-06 09:30:00     10576209     15903       9461   2863    42890   \n",
       "2020-05-06 23:04:00     10574238     16341       9782   2907    43989   \n",
       "2020-05-07 12:38:00     10572214     16791      10111   2952    45118   \n",
       "2020-05-08 02:12:00     10570136     17252      10450   2999    46279   \n",
       "2020-05-08 15:46:00     10568001     17726      10798   3047    47473   \n",
       "\n",
       "                     Waiting  Confirmed  \n",
       "Time                                     \n",
       "2020-05-02 10:32:00     2245      23122  \n",
       "2020-05-03 00:06:00     2300      23799  \n",
       "2020-05-03 13:40:00     2356      24494  \n",
       "2020-05-04 03:14:00     2413      25206  \n",
       "2020-05-04 16:48:00     2473      25936  \n",
       "2020-05-05 06:22:00     2537      26681  \n",
       "2020-05-05 19:56:00     2603      27445  \n",
       "2020-05-06 09:30:00     2671      28227  \n",
       "2020-05-06 23:04:00     2740      29030  \n",
       "2020-05-07 12:38:00     2810      29854  \n",
       "2020-05-08 02:12:00     2881      30701  \n",
       "2020-05-08 15:46:00     2953      31571  "
      ]
     },
     "execution_count": 41,
     "metadata": {},
     "output_type": "execute_result"
    }
   ],
   "source": [
    "df_sewirf.loc['2020-05-02':'2020-05-08']"
   ]
  },
  {
   "cell_type": "markdown",
   "metadata": {},
   "source": [
    "# comparison "
   ]
  },
  {
   "cell_type": "code",
   "execution_count": 59,
   "metadata": {},
   "outputs": [],
   "source": [
    "def getValuesVector(df, label):\n",
    "    d = ''\n",
    "    arr = []\n",
    "    for index, row in df.loc['2020-05-02':'2020-05-08'].iterrows():\n",
    "        ind = str(index).split(\" \")[0]\n",
    "        if (d == ind):\n",
    "            arr[-1] = round((arr[-1] + row[label]) / 2, 0)\n",
    "        else:\n",
    "            arr.append(row[label])\n",
    "        d = ind\n",
    "    return arr\n",
    "\n",
    "def getComparison(df_sewirf, df_seird, df_sird, df_sir, label):\n",
    "    fit = linear_model.fitFuntion(training, label)\n",
    "    x, y = linear_model.getDataSet(result, label)\n",
    "    func = fit['function']\n",
    "    popt = fit['popt']\n",
    "     \n",
    "    df = pd.DataFrame()\n",
    "    df[\"sewirf_\" + label] = getValuesVector(df_sewirf.loc['2020-05-02':'2020-05-08'], label)\n",
    "    df[\"sirf_\" + label] = getValuesVector(df_seird.loc['2020-05-02':'2020-05-08'], label)\n",
    "    df[\"sird_\" + label] = getValuesVector(df_sird.loc['2020-05-02':'2020-05-08'], label)\n",
    "    df[\"sir_\" + label] = getValuesVector(df_sir.loc['2020-05-02':'2020-05-08'], label)\n",
    "    df[\"function_fit_\" + label] = func(x, *popt)[-8:-1]\n",
    "    df[label] = list(test[label])\n",
    "    \n",
    "    squareError = pd.DataFrame()\n",
    "    squareError[\"sewirf_\" + label] = np.square(list(df[\"sewirf_\" + label] - df[label]))\n",
    "    squareError[\"sirf_\" + label] = np.square(list(df[\"sirf_\" + label] - df[label]))\n",
    "    squareError[\"sird_\" + label] = np.square(list(df[\"sird_\" + label] - df[label]))\n",
    "    squareError[\"sir_\" + label] = np.square(list(df[\"sir_\" + label] - df[label]))\n",
    "    squareError[\"function_fit_\" + label] = np.square(list(df[\"function_fit_\" + label] - df[label]))\n",
    "\n",
    "    return (df, squareError)"
   ]
  },
  {
   "cell_type": "code",
   "execution_count": 60,
   "metadata": {},
   "outputs": [
    {
     "name": "stderr",
     "output_type": "stream",
     "text": [
      "/home/jakub/.local/lib/python3.6/site-packages/scipy/optimize/minpack.py:808: OptimizeWarning: Covariance of the parameters could not be estimated\n",
      "  category=OptimizeWarning)\n"
     ]
    }
   ],
   "source": [
    "comp, squareError = getComparison(df_sewirf, df_seird, df_seir, df_sir, \"Infected\")"
   ]
  },
  {
   "cell_type": "code",
   "execution_count": 61,
   "metadata": {},
   "outputs": [
    {
     "data": {
      "text/html": [
       "<div>\n",
       "<style scoped>\n",
       "    .dataframe tbody tr th:only-of-type {\n",
       "        vertical-align: middle;\n",
       "    }\n",
       "\n",
       "    .dataframe tbody tr th {\n",
       "        vertical-align: top;\n",
       "    }\n",
       "\n",
       "    .dataframe thead th {\n",
       "        text-align: right;\n",
       "    }\n",
       "</style>\n",
       "<table border=\"1\" class=\"dataframe\">\n",
       "  <thead>\n",
       "    <tr style=\"text-align: right;\">\n",
       "      <th></th>\n",
       "      <th>sewirf_Infected</th>\n",
       "      <th>sirf_Infected</th>\n",
       "      <th>sird_Infected</th>\n",
       "      <th>sir_Infected</th>\n",
       "      <th>function_fit_Infected</th>\n",
       "      <th>Infected</th>\n",
       "    </tr>\n",
       "  </thead>\n",
       "  <tbody>\n",
       "    <tr>\n",
       "      <th>0</th>\n",
       "      <td>13092.0</td>\n",
       "      <td>4539.0</td>\n",
       "      <td>5176.0</td>\n",
       "      <td>5797.0</td>\n",
       "      <td>3516.474846</td>\n",
       "      <td>4049</td>\n",
       "    </tr>\n",
       "    <tr>\n",
       "      <th>1</th>\n",
       "      <td>13660.0</td>\n",
       "      <td>4392.0</td>\n",
       "      <td>5056.0</td>\n",
       "      <td>5689.0</td>\n",
       "      <td>3185.999969</td>\n",
       "      <td>3946</td>\n",
       "    </tr>\n",
       "    <tr>\n",
       "      <th>2</th>\n",
       "      <td>14448.0</td>\n",
       "      <td>4297.0</td>\n",
       "      <td>4938.0</td>\n",
       "      <td>5583.0</td>\n",
       "      <td>2825.159794</td>\n",
       "      <td>3760</td>\n",
       "    </tr>\n",
       "    <tr>\n",
       "      <th>3</th>\n",
       "      <td>15267.0</td>\n",
       "      <td>4204.0</td>\n",
       "      <td>4824.0</td>\n",
       "      <td>5427.0</td>\n",
       "      <td>2433.125048</td>\n",
       "      <td>3633</td>\n",
       "    </tr>\n",
       "    <tr>\n",
       "      <th>4</th>\n",
       "      <td>16122.0</td>\n",
       "      <td>4113.0</td>\n",
       "      <td>4712.0</td>\n",
       "      <td>5276.0</td>\n",
       "      <td>2009.066458</td>\n",
       "      <td>3507</td>\n",
       "    </tr>\n",
       "    <tr>\n",
       "      <th>5</th>\n",
       "      <td>16791.0</td>\n",
       "      <td>4025.0</td>\n",
       "      <td>4629.0</td>\n",
       "      <td>5178.0</td>\n",
       "      <td>1552.154752</td>\n",
       "      <td>3390</td>\n",
       "    </tr>\n",
       "    <tr>\n",
       "      <th>6</th>\n",
       "      <td>17489.0</td>\n",
       "      <td>3938.0</td>\n",
       "      <td>4548.0</td>\n",
       "      <td>5081.0</td>\n",
       "      <td>1061.560657</td>\n",
       "      <td>3391</td>\n",
       "    </tr>\n",
       "  </tbody>\n",
       "</table>\n",
       "</div>"
      ],
      "text/plain": [
       "   sewirf_Infected  sirf_Infected  sird_Infected  sir_Infected  \\\n",
       "0          13092.0         4539.0         5176.0        5797.0   \n",
       "1          13660.0         4392.0         5056.0        5689.0   \n",
       "2          14448.0         4297.0         4938.0        5583.0   \n",
       "3          15267.0         4204.0         4824.0        5427.0   \n",
       "4          16122.0         4113.0         4712.0        5276.0   \n",
       "5          16791.0         4025.0         4629.0        5178.0   \n",
       "6          17489.0         3938.0         4548.0        5081.0   \n",
       "\n",
       "   function_fit_Infected  Infected  \n",
       "0            3516.474846      4049  \n",
       "1            3185.999969      3946  \n",
       "2            2825.159794      3760  \n",
       "3            2433.125048      3633  \n",
       "4            2009.066458      3507  \n",
       "5            1552.154752      3390  \n",
       "6            1061.560657      3391  "
      ]
     },
     "execution_count": 61,
     "metadata": {},
     "output_type": "execute_result"
    }
   ],
   "source": [
    "comp"
   ]
  },
  {
   "cell_type": "code",
   "execution_count": 62,
   "metadata": {},
   "outputs": [
    {
     "data": {
      "text/html": [
       "<div>\n",
       "<style scoped>\n",
       "    .dataframe tbody tr th:only-of-type {\n",
       "        vertical-align: middle;\n",
       "    }\n",
       "\n",
       "    .dataframe tbody tr th {\n",
       "        vertical-align: top;\n",
       "    }\n",
       "\n",
       "    .dataframe thead th {\n",
       "        text-align: right;\n",
       "    }\n",
       "</style>\n",
       "<table border=\"1\" class=\"dataframe\">\n",
       "  <thead>\n",
       "    <tr style=\"text-align: right;\">\n",
       "      <th></th>\n",
       "      <th>sewirf_Infected</th>\n",
       "      <th>sirf_Infected</th>\n",
       "      <th>sird_Infected</th>\n",
       "      <th>sir_Infected</th>\n",
       "      <th>function_fit_Infected</th>\n",
       "    </tr>\n",
       "  </thead>\n",
       "  <tbody>\n",
       "    <tr>\n",
       "      <th>0</th>\n",
       "      <td>81775849.0</td>\n",
       "      <td>240100.0</td>\n",
       "      <td>1270129.0</td>\n",
       "      <td>3055504.0</td>\n",
       "      <td>2.835830e+05</td>\n",
       "    </tr>\n",
       "    <tr>\n",
       "      <th>1</th>\n",
       "      <td>94361796.0</td>\n",
       "      <td>198916.0</td>\n",
       "      <td>1232100.0</td>\n",
       "      <td>3038049.0</td>\n",
       "      <td>5.776000e+05</td>\n",
       "    </tr>\n",
       "    <tr>\n",
       "      <th>2</th>\n",
       "      <td>114233344.0</td>\n",
       "      <td>288369.0</td>\n",
       "      <td>1387684.0</td>\n",
       "      <td>3323329.0</td>\n",
       "      <td>8.739262e+05</td>\n",
       "    </tr>\n",
       "    <tr>\n",
       "      <th>3</th>\n",
       "      <td>135349956.0</td>\n",
       "      <td>326041.0</td>\n",
       "      <td>1418481.0</td>\n",
       "      <td>3218436.0</td>\n",
       "      <td>1.439700e+06</td>\n",
       "    </tr>\n",
       "    <tr>\n",
       "      <th>4</th>\n",
       "      <td>159138225.0</td>\n",
       "      <td>367236.0</td>\n",
       "      <td>1452025.0</td>\n",
       "      <td>3129361.0</td>\n",
       "      <td>2.243805e+06</td>\n",
       "    </tr>\n",
       "    <tr>\n",
       "      <th>5</th>\n",
       "      <td>179586801.0</td>\n",
       "      <td>403225.0</td>\n",
       "      <td>1535121.0</td>\n",
       "      <td>3196944.0</td>\n",
       "      <td>3.377675e+06</td>\n",
       "    </tr>\n",
       "    <tr>\n",
       "      <th>6</th>\n",
       "      <td>198753604.0</td>\n",
       "      <td>299209.0</td>\n",
       "      <td>1338649.0</td>\n",
       "      <td>2856100.0</td>\n",
       "      <td>5.426288e+06</td>\n",
       "    </tr>\n",
       "  </tbody>\n",
       "</table>\n",
       "</div>"
      ],
      "text/plain": [
       "   sewirf_Infected  sirf_Infected  sird_Infected  sir_Infected  \\\n",
       "0       81775849.0       240100.0      1270129.0     3055504.0   \n",
       "1       94361796.0       198916.0      1232100.0     3038049.0   \n",
       "2      114233344.0       288369.0      1387684.0     3323329.0   \n",
       "3      135349956.0       326041.0      1418481.0     3218436.0   \n",
       "4      159138225.0       367236.0      1452025.0     3129361.0   \n",
       "5      179586801.0       403225.0      1535121.0     3196944.0   \n",
       "6      198753604.0       299209.0      1338649.0     2856100.0   \n",
       "\n",
       "   function_fit_Infected  \n",
       "0           2.835830e+05  \n",
       "1           5.776000e+05  \n",
       "2           8.739262e+05  \n",
       "3           1.439700e+06  \n",
       "4           2.243805e+06  \n",
       "5           3.377675e+06  \n",
       "6           5.426288e+06  "
      ]
     },
     "execution_count": 62,
     "metadata": {},
     "output_type": "execute_result"
    }
   ],
   "source": [
    "squareError"
   ]
  },
  {
   "cell_type": "code",
   "execution_count": 63,
   "metadata": {},
   "outputs": [
    {
     "data": {
      "text/plain": [
       "sewirf_Infected          1.375999e+08\n",
       "sirf_Infected            3.032994e+05\n",
       "sird_Infected            1.376313e+06\n",
       "sir_Infected             3.116818e+06\n",
       "function_fit_Infected    2.031797e+06\n",
       "dtype: float64"
      ]
     },
     "execution_count": 63,
     "metadata": {},
     "output_type": "execute_result"
    }
   ],
   "source": [
    "1/7 * squareError.sum()"
   ]
  },
  {
   "cell_type": "markdown",
   "metadata": {},
   "source": [
    "PREDICTING IN PHASES"
   ]
  },
  {
   "cell_type": "markdown",
   "metadata": {},
   "source": [
    "TRYING TO INCLUDE TESTS"
   ]
  }
 ],
 "metadata": {
  "kernelspec": {
   "display_name": "Python 3",
   "language": "python",
   "name": "python3"
  },
  "language_info": {
   "codemirror_mode": {
    "name": "ipython",
    "version": 3
   },
   "file_extension": ".py",
   "mimetype": "text/x-python",
   "name": "python",
   "nbconvert_exporter": "python",
   "pygments_lexer": "ipython3",
   "version": "3.6.9"
  }
 },
 "nbformat": 4,
 "nbformat_minor": 4
}
