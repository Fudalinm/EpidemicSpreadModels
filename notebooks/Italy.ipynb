{
 "cells": [
  {
   "cell_type": "code",
   "execution_count": 1,
   "metadata": {},
   "outputs": [],
   "source": [
    "import sys\n",
    "sys.path.insert(1, '../model')\n",
    "import model"
   ]
  },
  {
   "cell_type": "code",
   "execution_count": 2,
   "metadata": {},
   "outputs": [],
   "source": [
    "import numpy as np\n",
    "import matplotlib.pyplot as plt\n",
    "import matplotlib.cm as cm\n",
    "from matplotlib.ticker import ScalarFormatter\n",
    "import optuna\n",
    "optuna.logging.disable_default_handler()\n",
    "import pandas as pd\n",
    "pd.plotting.register_matplotlib_converters()\n",
    "import seaborn as sns\n",
    "from scipy.integrate import solve_ivp\n",
    "from pprint import pprint"
   ]
  },
  {
   "cell_type": "code",
   "execution_count": 3,
   "metadata": {},
   "outputs": [],
   "source": [
    "critical_country = 'Italy'\n",
    "raw = pd.read_csv(\"../data/covid_19_data.csv\")"
   ]
  },
  {
   "cell_type": "code",
   "execution_count": 4,
   "metadata": {},
   "outputs": [
    {
     "data": {
      "text/html": [
       "<div>\n",
       "<style scoped>\n",
       "    .dataframe tbody tr th:only-of-type {\n",
       "        vertical-align: middle;\n",
       "    }\n",
       "\n",
       "    .dataframe tbody tr th {\n",
       "        vertical-align: top;\n",
       "    }\n",
       "\n",
       "    .dataframe thead th {\n",
       "        text-align: right;\n",
       "    }\n",
       "</style>\n",
       "<table border=\"1\" class=\"dataframe\">\n",
       "  <thead>\n",
       "    <tr style=\"text-align: right;\">\n",
       "      <th></th>\n",
       "      <th>SNo</th>\n",
       "      <th>ObservationDate</th>\n",
       "      <th>Province/State</th>\n",
       "      <th>Country/Region</th>\n",
       "      <th>Last Update</th>\n",
       "      <th>Confirmed</th>\n",
       "      <th>Deaths</th>\n",
       "      <th>Recovered</th>\n",
       "    </tr>\n",
       "  </thead>\n",
       "  <tbody>\n",
       "    <tr>\n",
       "      <th>0</th>\n",
       "      <td>1</td>\n",
       "      <td>01/22/2020</td>\n",
       "      <td>Anhui</td>\n",
       "      <td>Mainland China</td>\n",
       "      <td>1/22/2020 17:00</td>\n",
       "      <td>1.0</td>\n",
       "      <td>0.0</td>\n",
       "      <td>0.0</td>\n",
       "    </tr>\n",
       "    <tr>\n",
       "      <th>1</th>\n",
       "      <td>2</td>\n",
       "      <td>01/22/2020</td>\n",
       "      <td>Beijing</td>\n",
       "      <td>Mainland China</td>\n",
       "      <td>1/22/2020 17:00</td>\n",
       "      <td>14.0</td>\n",
       "      <td>0.0</td>\n",
       "      <td>0.0</td>\n",
       "    </tr>\n",
       "    <tr>\n",
       "      <th>2</th>\n",
       "      <td>3</td>\n",
       "      <td>01/22/2020</td>\n",
       "      <td>Chongqing</td>\n",
       "      <td>Mainland China</td>\n",
       "      <td>1/22/2020 17:00</td>\n",
       "      <td>6.0</td>\n",
       "      <td>0.0</td>\n",
       "      <td>0.0</td>\n",
       "    </tr>\n",
       "    <tr>\n",
       "      <th>3</th>\n",
       "      <td>4</td>\n",
       "      <td>01/22/2020</td>\n",
       "      <td>Fujian</td>\n",
       "      <td>Mainland China</td>\n",
       "      <td>1/22/2020 17:00</td>\n",
       "      <td>1.0</td>\n",
       "      <td>0.0</td>\n",
       "      <td>0.0</td>\n",
       "    </tr>\n",
       "    <tr>\n",
       "      <th>4</th>\n",
       "      <td>5</td>\n",
       "      <td>01/22/2020</td>\n",
       "      <td>Gansu</td>\n",
       "      <td>Mainland China</td>\n",
       "      <td>1/22/2020 17:00</td>\n",
       "      <td>0.0</td>\n",
       "      <td>0.0</td>\n",
       "      <td>0.0</td>\n",
       "    </tr>\n",
       "    <tr>\n",
       "      <th>...</th>\n",
       "      <td>...</td>\n",
       "      <td>...</td>\n",
       "      <td>...</td>\n",
       "      <td>...</td>\n",
       "      <td>...</td>\n",
       "      <td>...</td>\n",
       "      <td>...</td>\n",
       "      <td>...</td>\n",
       "    </tr>\n",
       "    <tr>\n",
       "      <th>14806</th>\n",
       "      <td>14807</td>\n",
       "      <td>04/13/2020</td>\n",
       "      <td>Wyoming</td>\n",
       "      <td>US</td>\n",
       "      <td>2020-04-13 23:15:42</td>\n",
       "      <td>275.0</td>\n",
       "      <td>1.0</td>\n",
       "      <td>0.0</td>\n",
       "    </tr>\n",
       "    <tr>\n",
       "      <th>14807</th>\n",
       "      <td>14808</td>\n",
       "      <td>04/13/2020</td>\n",
       "      <td>Xinjiang</td>\n",
       "      <td>Mainland China</td>\n",
       "      <td>2020-04-13 23:15:42</td>\n",
       "      <td>76.0</td>\n",
       "      <td>3.0</td>\n",
       "      <td>73.0</td>\n",
       "    </tr>\n",
       "    <tr>\n",
       "      <th>14808</th>\n",
       "      <td>14809</td>\n",
       "      <td>04/13/2020</td>\n",
       "      <td>Yukon</td>\n",
       "      <td>Canada</td>\n",
       "      <td>2020-04-13 23:15:42</td>\n",
       "      <td>8.0</td>\n",
       "      <td>0.0</td>\n",
       "      <td>0.0</td>\n",
       "    </tr>\n",
       "    <tr>\n",
       "      <th>14809</th>\n",
       "      <td>14810</td>\n",
       "      <td>04/13/2020</td>\n",
       "      <td>Yunnan</td>\n",
       "      <td>Mainland China</td>\n",
       "      <td>2020-04-13 23:15:42</td>\n",
       "      <td>184.0</td>\n",
       "      <td>2.0</td>\n",
       "      <td>174.0</td>\n",
       "    </tr>\n",
       "    <tr>\n",
       "      <th>14810</th>\n",
       "      <td>14811</td>\n",
       "      <td>04/13/2020</td>\n",
       "      <td>Zhejiang</td>\n",
       "      <td>Mainland China</td>\n",
       "      <td>2020-04-13 23:15:42</td>\n",
       "      <td>1267.0</td>\n",
       "      <td>1.0</td>\n",
       "      <td>1239.0</td>\n",
       "    </tr>\n",
       "  </tbody>\n",
       "</table>\n",
       "<p>14811 rows × 8 columns</p>\n",
       "</div>"
      ],
      "text/plain": [
       "         SNo ObservationDate Province/State  Country/Region  \\\n",
       "0          1      01/22/2020          Anhui  Mainland China   \n",
       "1          2      01/22/2020        Beijing  Mainland China   \n",
       "2          3      01/22/2020      Chongqing  Mainland China   \n",
       "3          4      01/22/2020         Fujian  Mainland China   \n",
       "4          5      01/22/2020          Gansu  Mainland China   \n",
       "...      ...             ...            ...             ...   \n",
       "14806  14807      04/13/2020        Wyoming              US   \n",
       "14807  14808      04/13/2020       Xinjiang  Mainland China   \n",
       "14808  14809      04/13/2020          Yukon          Canada   \n",
       "14809  14810      04/13/2020         Yunnan  Mainland China   \n",
       "14810  14811      04/13/2020       Zhejiang  Mainland China   \n",
       "\n",
       "               Last Update  Confirmed  Deaths  Recovered  \n",
       "0          1/22/2020 17:00        1.0     0.0        0.0  \n",
       "1          1/22/2020 17:00       14.0     0.0        0.0  \n",
       "2          1/22/2020 17:00        6.0     0.0        0.0  \n",
       "3          1/22/2020 17:00        1.0     0.0        0.0  \n",
       "4          1/22/2020 17:00        0.0     0.0        0.0  \n",
       "...                    ...        ...     ...        ...  \n",
       "14806  2020-04-13 23:15:42      275.0     1.0        0.0  \n",
       "14807  2020-04-13 23:15:42       76.0     3.0       73.0  \n",
       "14808  2020-04-13 23:15:42        8.0     0.0        0.0  \n",
       "14809  2020-04-13 23:15:42      184.0     2.0      174.0  \n",
       "14810  2020-04-13 23:15:42     1267.0     1.0     1239.0  \n",
       "\n",
       "[14811 rows x 8 columns]"
      ]
     },
     "execution_count": 4,
     "metadata": {},
     "output_type": "execute_result"
    }
   ],
   "source": [
    "raw"
   ]
  },
  {
   "cell_type": "code",
   "execution_count": 5,
   "metadata": {},
   "outputs": [
    {
     "data": {
      "text/html": [
       "<div>\n",
       "<style scoped>\n",
       "    .dataframe tbody tr th:only-of-type {\n",
       "        vertical-align: middle;\n",
       "    }\n",
       "\n",
       "    .dataframe tbody tr th {\n",
       "        vertical-align: top;\n",
       "    }\n",
       "\n",
       "    .dataframe thead th {\n",
       "        text-align: right;\n",
       "    }\n",
       "</style>\n",
       "<table border=\"1\" class=\"dataframe\">\n",
       "  <thead>\n",
       "    <tr style=\"text-align: right;\">\n",
       "      <th></th>\n",
       "      <th>Date</th>\n",
       "      <th>Country</th>\n",
       "      <th>Province</th>\n",
       "      <th>Confirmed</th>\n",
       "      <th>Infected</th>\n",
       "      <th>Deaths</th>\n",
       "      <th>Recovered</th>\n",
       "    </tr>\n",
       "  </thead>\n",
       "  <tbody>\n",
       "    <tr>\n",
       "      <th>14806</th>\n",
       "      <td>2020-04-13</td>\n",
       "      <td>US</td>\n",
       "      <td>Wyoming</td>\n",
       "      <td>275</td>\n",
       "      <td>274</td>\n",
       "      <td>1</td>\n",
       "      <td>0</td>\n",
       "    </tr>\n",
       "    <tr>\n",
       "      <th>14807</th>\n",
       "      <td>2020-04-13</td>\n",
       "      <td>Mainland China</td>\n",
       "      <td>Xinjiang</td>\n",
       "      <td>76</td>\n",
       "      <td>0</td>\n",
       "      <td>3</td>\n",
       "      <td>73</td>\n",
       "    </tr>\n",
       "    <tr>\n",
       "      <th>14808</th>\n",
       "      <td>2020-04-13</td>\n",
       "      <td>Canada</td>\n",
       "      <td>Yukon</td>\n",
       "      <td>8</td>\n",
       "      <td>8</td>\n",
       "      <td>0</td>\n",
       "      <td>0</td>\n",
       "    </tr>\n",
       "    <tr>\n",
       "      <th>14809</th>\n",
       "      <td>2020-04-13</td>\n",
       "      <td>Mainland China</td>\n",
       "      <td>Yunnan</td>\n",
       "      <td>184</td>\n",
       "      <td>8</td>\n",
       "      <td>2</td>\n",
       "      <td>174</td>\n",
       "    </tr>\n",
       "    <tr>\n",
       "      <th>14810</th>\n",
       "      <td>2020-04-13</td>\n",
       "      <td>Mainland China</td>\n",
       "      <td>Zhejiang</td>\n",
       "      <td>1267</td>\n",
       "      <td>27</td>\n",
       "      <td>1</td>\n",
       "      <td>1239</td>\n",
       "    </tr>\n",
       "  </tbody>\n",
       "</table>\n",
       "</div>"
      ],
      "text/plain": [
       "            Date         Country  Province  Confirmed  Infected  Deaths  \\\n",
       "14806 2020-04-13              US   Wyoming        275       274       1   \n",
       "14807 2020-04-13  Mainland China  Xinjiang         76         0       3   \n",
       "14808 2020-04-13          Canada     Yukon          8         8       0   \n",
       "14809 2020-04-13  Mainland China    Yunnan        184         8       2   \n",
       "14810 2020-04-13  Mainland China  Zhejiang       1267        27       1   \n",
       "\n",
       "       Recovered  \n",
       "14806          0  \n",
       "14807         73  \n",
       "14808          0  \n",
       "14809        174  \n",
       "14810       1239  "
      ]
     },
     "execution_count": 5,
     "metadata": {},
     "output_type": "execute_result"
    }
   ],
   "source": [
    "data_cols = [\"Infected\", \"Deaths\", \"Recovered\"]\n",
    "data_cols_all = [\"Confirmed\", \"Infected\", \"Deaths\", \"Recovered\"]\n",
    "df = raw.rename({\"ObservationDate\": \"Date\", \"Province/State\": \"Province\"}, axis=1)\n",
    "df[\"Date\"] = pd.to_datetime(df[\"Date\"])\n",
    "df[\"Country\"] = df[\"Country/Region\"]\n",
    "df.loc[df[\"Country\"] == \"Diamond Princess\", [\"Country\", \"Province\"]] = [\"Others\", \"Diamond Princess\"]\n",
    "df[\"Infected\"] = df[\"Confirmed\"] - df[\"Deaths\"] - df[\"Recovered\"]\n",
    "df[data_cols_all] = df[data_cols_all].astype(np.int64)\n",
    "ncov_df_ungrouped = df.loc[:, [\"Date\", \"Country\", \"Province\", *data_cols_all]]\n",
    "ncov_df_ungrouped.tail()"
   ]
  },
  {
   "cell_type": "code",
   "execution_count": 6,
   "metadata": {},
   "outputs": [
    {
     "data": {
      "text/html": [
       "<div>\n",
       "<style scoped>\n",
       "    .dataframe tbody tr th:only-of-type {\n",
       "        vertical-align: middle;\n",
       "    }\n",
       "\n",
       "    .dataframe tbody tr th {\n",
       "        vertical-align: top;\n",
       "    }\n",
       "\n",
       "    .dataframe thead th {\n",
       "        text-align: right;\n",
       "    }\n",
       "</style>\n",
       "<table border=\"1\" class=\"dataframe\">\n",
       "  <thead>\n",
       "    <tr style=\"text-align: right;\">\n",
       "      <th></th>\n",
       "      <th>Confirmed</th>\n",
       "      <th>Infected</th>\n",
       "      <th>Deaths</th>\n",
       "      <th>Recovered</th>\n",
       "    </tr>\n",
       "    <tr>\n",
       "      <th>Date</th>\n",
       "      <th></th>\n",
       "      <th></th>\n",
       "      <th></th>\n",
       "      <th></th>\n",
       "    </tr>\n",
       "  </thead>\n",
       "  <tbody>\n",
       "    <tr>\n",
       "      <th>2020-01-31</th>\n",
       "      <td>2</td>\n",
       "      <td>2</td>\n",
       "      <td>0</td>\n",
       "      <td>0</td>\n",
       "    </tr>\n",
       "    <tr>\n",
       "      <th>2020-02-01</th>\n",
       "      <td>2</td>\n",
       "      <td>2</td>\n",
       "      <td>0</td>\n",
       "      <td>0</td>\n",
       "    </tr>\n",
       "    <tr>\n",
       "      <th>2020-02-02</th>\n",
       "      <td>2</td>\n",
       "      <td>2</td>\n",
       "      <td>0</td>\n",
       "      <td>0</td>\n",
       "    </tr>\n",
       "    <tr>\n",
       "      <th>2020-02-03</th>\n",
       "      <td>2</td>\n",
       "      <td>2</td>\n",
       "      <td>0</td>\n",
       "      <td>0</td>\n",
       "    </tr>\n",
       "    <tr>\n",
       "      <th>2020-02-04</th>\n",
       "      <td>2</td>\n",
       "      <td>2</td>\n",
       "      <td>0</td>\n",
       "      <td>0</td>\n",
       "    </tr>\n",
       "    <tr>\n",
       "      <th>...</th>\n",
       "      <td>...</td>\n",
       "      <td>...</td>\n",
       "      <td>...</td>\n",
       "      <td>...</td>\n",
       "    </tr>\n",
       "    <tr>\n",
       "      <th>2020-04-09</th>\n",
       "      <td>143626</td>\n",
       "      <td>96877</td>\n",
       "      <td>18279</td>\n",
       "      <td>28470</td>\n",
       "    </tr>\n",
       "    <tr>\n",
       "      <th>2020-04-10</th>\n",
       "      <td>147577</td>\n",
       "      <td>98273</td>\n",
       "      <td>18849</td>\n",
       "      <td>30455</td>\n",
       "    </tr>\n",
       "    <tr>\n",
       "      <th>2020-04-11</th>\n",
       "      <td>152271</td>\n",
       "      <td>100269</td>\n",
       "      <td>19468</td>\n",
       "      <td>32534</td>\n",
       "    </tr>\n",
       "    <tr>\n",
       "      <th>2020-04-12</th>\n",
       "      <td>156363</td>\n",
       "      <td>102253</td>\n",
       "      <td>19899</td>\n",
       "      <td>34211</td>\n",
       "    </tr>\n",
       "    <tr>\n",
       "      <th>2020-04-13</th>\n",
       "      <td>159516</td>\n",
       "      <td>103616</td>\n",
       "      <td>20465</td>\n",
       "      <td>35435</td>\n",
       "    </tr>\n",
       "  </tbody>\n",
       "</table>\n",
       "<p>74 rows × 4 columns</p>\n",
       "</div>"
      ],
      "text/plain": [
       "            Confirmed  Infected  Deaths  Recovered\n",
       "Date                                              \n",
       "2020-01-31          2         2       0          0\n",
       "2020-02-01          2         2       0          0\n",
       "2020-02-02          2         2       0          0\n",
       "2020-02-03          2         2       0          0\n",
       "2020-02-04          2         2       0          0\n",
       "...               ...       ...     ...        ...\n",
       "2020-04-09     143626     96877   18279      28470\n",
       "2020-04-10     147577     98273   18849      30455\n",
       "2020-04-11     152271    100269   19468      32534\n",
       "2020-04-12     156363    102253   19899      34211\n",
       "2020-04-13     159516    103616   20465      35435\n",
       "\n",
       "[74 rows x 4 columns]"
      ]
     },
     "execution_count": 6,
     "metadata": {},
     "output_type": "execute_result"
    }
   ],
   "source": [
    "df_italy = ncov_df_ungrouped.loc[ncov_df_ungrouped[\"Country\"] == critical_country, :].groupby(\"Date\").sum()\n",
    "df_italy"
   ]
  },
  {
   "cell_type": "code",
   "execution_count": 7,
   "metadata": {},
   "outputs": [
    {
     "data": {
      "text/html": [
       "<div>\n",
       "<style scoped>\n",
       "    .dataframe tbody tr th:only-of-type {\n",
       "        vertical-align: middle;\n",
       "    }\n",
       "\n",
       "    .dataframe tbody tr th {\n",
       "        vertical-align: top;\n",
       "    }\n",
       "\n",
       "    .dataframe thead th {\n",
       "        text-align: right;\n",
       "    }\n",
       "</style>\n",
       "<table border=\"1\" class=\"dataframe\">\n",
       "  <thead>\n",
       "    <tr style=\"text-align: right;\">\n",
       "      <th></th>\n",
       "      <th>Entity</th>\n",
       "      <th>Code</th>\n",
       "      <th>Date</th>\n",
       "      <th>TotalTests</th>\n",
       "    </tr>\n",
       "  </thead>\n",
       "  <tbody>\n",
       "    <tr>\n",
       "      <th>753</th>\n",
       "      <td>Italy</td>\n",
       "      <td>ITA</td>\n",
       "      <td>2020-04-10</td>\n",
       "      <td>906864</td>\n",
       "    </tr>\n",
       "    <tr>\n",
       "      <th>754</th>\n",
       "      <td>Italy</td>\n",
       "      <td>ITA</td>\n",
       "      <td>2020-04-11</td>\n",
       "      <td>963473</td>\n",
       "    </tr>\n",
       "    <tr>\n",
       "      <th>755</th>\n",
       "      <td>Italy</td>\n",
       "      <td>ITA</td>\n",
       "      <td>2020-04-12</td>\n",
       "      <td>1010193</td>\n",
       "    </tr>\n",
       "    <tr>\n",
       "      <th>756</th>\n",
       "      <td>Italy</td>\n",
       "      <td>ITA</td>\n",
       "      <td>2020-04-13</td>\n",
       "      <td>1046910</td>\n",
       "    </tr>\n",
       "    <tr>\n",
       "      <th>757</th>\n",
       "      <td>Italy</td>\n",
       "      <td>ITA</td>\n",
       "      <td>2020-04-14</td>\n",
       "      <td>1073689</td>\n",
       "    </tr>\n",
       "  </tbody>\n",
       "</table>\n",
       "</div>"
      ],
      "text/plain": [
       "    Entity Code       Date  TotalTests\n",
       "753  Italy  ITA 2020-04-10      906864\n",
       "754  Italy  ITA 2020-04-11      963473\n",
       "755  Italy  ITA 2020-04-12     1010193\n",
       "756  Italy  ITA 2020-04-13     1046910\n",
       "757  Italy  ITA 2020-04-14     1073689"
      ]
     },
     "execution_count": 7,
     "metadata": {},
     "output_type": "execute_result"
    }
   ],
   "source": [
    "df_test = pd.read_csv(\"../data/full-list-total-tests-for-covid-19.csv\")\n",
    "df_test.rename({\"Cumulative total tests\": \"TotalTests\"}, axis=1,inplace=True)\n",
    "df_test[\"Date\"] = pd.to_datetime(df_test[\"Date\"])\n",
    "df_test_italy = df_test[df_test['Entity'] == critical_country]\n",
    "df_test_italy.tail()"
   ]
  },
  {
   "cell_type": "code",
   "execution_count": 8,
   "metadata": {},
   "outputs": [
    {
     "data": {
      "text/html": [
       "<div>\n",
       "<style scoped>\n",
       "    .dataframe tbody tr th:only-of-type {\n",
       "        vertical-align: middle;\n",
       "    }\n",
       "\n",
       "    .dataframe tbody tr th {\n",
       "        vertical-align: top;\n",
       "    }\n",
       "\n",
       "    .dataframe thead th {\n",
       "        text-align: right;\n",
       "    }\n",
       "</style>\n",
       "<table border=\"1\" class=\"dataframe\">\n",
       "  <thead>\n",
       "    <tr style=\"text-align: right;\">\n",
       "      <th></th>\n",
       "      <th>Date</th>\n",
       "      <th>Confirmed</th>\n",
       "      <th>Infected</th>\n",
       "      <th>Deaths</th>\n",
       "      <th>Recovered</th>\n",
       "      <th>TotalTests</th>\n",
       "    </tr>\n",
       "  </thead>\n",
       "  <tbody>\n",
       "    <tr>\n",
       "      <th>0</th>\n",
       "      <td>2020-01-31</td>\n",
       "      <td>2</td>\n",
       "      <td>2</td>\n",
       "      <td>0</td>\n",
       "      <td>0</td>\n",
       "      <td>0</td>\n",
       "    </tr>\n",
       "    <tr>\n",
       "      <th>1</th>\n",
       "      <td>2020-02-01</td>\n",
       "      <td>2</td>\n",
       "      <td>2</td>\n",
       "      <td>0</td>\n",
       "      <td>0</td>\n",
       "      <td>180</td>\n",
       "    </tr>\n",
       "    <tr>\n",
       "      <th>2</th>\n",
       "      <td>2020-02-02</td>\n",
       "      <td>2</td>\n",
       "      <td>2</td>\n",
       "      <td>0</td>\n",
       "      <td>0</td>\n",
       "      <td>360</td>\n",
       "    </tr>\n",
       "    <tr>\n",
       "      <th>3</th>\n",
       "      <td>2020-02-03</td>\n",
       "      <td>2</td>\n",
       "      <td>2</td>\n",
       "      <td>0</td>\n",
       "      <td>0</td>\n",
       "      <td>540</td>\n",
       "    </tr>\n",
       "    <tr>\n",
       "      <th>4</th>\n",
       "      <td>2020-02-04</td>\n",
       "      <td>2</td>\n",
       "      <td>2</td>\n",
       "      <td>0</td>\n",
       "      <td>0</td>\n",
       "      <td>720</td>\n",
       "    </tr>\n",
       "    <tr>\n",
       "      <th>...</th>\n",
       "      <td>...</td>\n",
       "      <td>...</td>\n",
       "      <td>...</td>\n",
       "      <td>...</td>\n",
       "      <td>...</td>\n",
       "      <td>...</td>\n",
       "    </tr>\n",
       "    <tr>\n",
       "      <th>69</th>\n",
       "      <td>2020-04-09</td>\n",
       "      <td>143626</td>\n",
       "      <td>96877</td>\n",
       "      <td>18279</td>\n",
       "      <td>28470</td>\n",
       "      <td>853369</td>\n",
       "    </tr>\n",
       "    <tr>\n",
       "      <th>70</th>\n",
       "      <td>2020-04-10</td>\n",
       "      <td>147577</td>\n",
       "      <td>98273</td>\n",
       "      <td>18849</td>\n",
       "      <td>30455</td>\n",
       "      <td>906864</td>\n",
       "    </tr>\n",
       "    <tr>\n",
       "      <th>71</th>\n",
       "      <td>2020-04-11</td>\n",
       "      <td>152271</td>\n",
       "      <td>100269</td>\n",
       "      <td>19468</td>\n",
       "      <td>32534</td>\n",
       "      <td>963473</td>\n",
       "    </tr>\n",
       "    <tr>\n",
       "      <th>72</th>\n",
       "      <td>2020-04-12</td>\n",
       "      <td>156363</td>\n",
       "      <td>102253</td>\n",
       "      <td>19899</td>\n",
       "      <td>34211</td>\n",
       "      <td>1010193</td>\n",
       "    </tr>\n",
       "    <tr>\n",
       "      <th>73</th>\n",
       "      <td>2020-04-13</td>\n",
       "      <td>159516</td>\n",
       "      <td>103616</td>\n",
       "      <td>20465</td>\n",
       "      <td>35435</td>\n",
       "      <td>1046910</td>\n",
       "    </tr>\n",
       "  </tbody>\n",
       "</table>\n",
       "<p>74 rows × 6 columns</p>\n",
       "</div>"
      ],
      "text/plain": [
       "         Date  Confirmed  Infected  Deaths  Recovered  TotalTests\n",
       "0  2020-01-31          2         2       0          0           0\n",
       "1  2020-02-01          2         2       0          0         180\n",
       "2  2020-02-02          2         2       0          0         360\n",
       "3  2020-02-03          2         2       0          0         540\n",
       "4  2020-02-04          2         2       0          0         720\n",
       "..        ...        ...       ...     ...        ...         ...\n",
       "69 2020-04-09     143626     96877   18279      28470      853369\n",
       "70 2020-04-10     147577     98273   18849      30455      906864\n",
       "71 2020-04-11     152271    100269   19468      32534      963473\n",
       "72 2020-04-12     156363    102253   19899      34211     1010193\n",
       "73 2020-04-13     159516    103616   20465      35435     1046910\n",
       "\n",
       "[74 rows x 6 columns]"
      ]
     },
     "execution_count": 8,
     "metadata": {},
     "output_type": "execute_result"
    }
   ],
   "source": [
    "result = pd.merge(df_italy,\n",
    "                 df_test_italy[['Date','TotalTests']],\n",
    "                 on='Date',\n",
    "                 how = 'left')\n",
    "from numpy import isnan\n",
    "result.loc[0, ('TotalTests')] = 0 if isnan(result['TotalTests'][0]) else result['TotalTests'][0]\n",
    "result['TotalTests'].interpolate(method='linear',inplace=True,limit_direction='both')\n",
    "result['TotalTests'] = result['TotalTests'].astype(int)\n",
    "result"
   ]
  },
  {
   "cell_type": "code",
   "execution_count": 9,
   "metadata": {},
   "outputs": [
    {
     "data": {
      "image/png": "[encoded data removed]",
      "text/plain": [
       "<Figure size 432x288 with 1 Axes>"
      ]
     },
     "metadata": {
      "needs_background": "light"
     },
     "output_type": "display_data"
    }
   ],
   "source": [
    "result = result.set_index('Date')\n",
    "data_cols_all += ['TotalTests']\n",
    "model.line_plot(result[data_cols_all], \"Total number of cases over time\")"
   ]
  },
  {
   "cell_type": "code",
   "execution_count": 10,
   "metadata": {},
   "outputs": [
    {
     "data": {
      "image/png": "[encoded data removed]",
      "text/plain": [
       "<Figure size 432x288 with 1 Axes>"
      ]
     },
     "metadata": {
      "needs_background": "light"
     },
     "output_type": "display_data"
    }
   ],
   "source": [
    "rate_cols = ['Fatal/Confirmed','Recovered/Confirmed','Fatal/Removed','Confirmed/Tested']\n",
    "\n",
    "result[rate_cols[0]] = result[\"Deaths\"] / result[data_cols].sum(axis=1)\n",
    "result[rate_cols[1]] = result[\"Recovered\"] / result[data_cols].sum(axis=1)\n",
    "result[rate_cols[2]] = result[\"Deaths\"] / (result[\"Deaths\"] + result[\"Recovered\"])\n",
    "result[rate_cols[3]] = result[\"Confirmed\"] /result[\"TotalTests\"]\n",
    "\n",
    "model.line_plot(result[rate_cols], \"Global rate over time\", ylabel=\"\", math_scale=False)"
   ]
  },
  {
   "cell_type": "code",
   "execution_count": 11,
   "metadata": {},
   "outputs": [
    {
     "name": "stdout",
     "output_type": "stream",
     "text": [
      "60480000\n"
     ]
    }
   ],
   "source": [
    "#load population dict\n",
    "population_df = pd.read_csv(\"../data/locations_population.csv\")\n",
    "population_country = population_df[population_df['Country.Region'] == critical_country].iloc[0]['Population']\n",
    "print(population_country) \n",
    "\n",
    "# TODO: estimate automaticly epidemic begin\n",
    "epidemic_start = \"7Apr2020\""
   ]
  },
  {
   "cell_type": "code",
   "execution_count": 12,
   "metadata": {},
   "outputs": [
    {
     "name": "stdout",
     "output_type": "stream",
     "text": [
      "['07Apr2020', array([9.97758168e-01, 1.55534061e-03, 6.86491402e-04]), 8640]\n",
      "      T         x         y         z\n",
      "2  2880  0.997625  0.001602  0.000773\n",
      "3  4320  0.997560  0.001625  0.000815\n",
      "4  5760  0.997482  0.001658  0.000860\n",
      "5  7200  0.997415  0.001691  0.000895\n",
      "6  8640  0.997363  0.001713  0.000924\n"
     ]
    }
   ],
   "source": [
    "train_dataset = model.SIR.create_dataset(\n",
    "    ncov_df_ungrouped, \n",
    "    population_country, \n",
    "    places=[(critical_country, None)],\n",
    "    start_date=epidemic_start\n",
    ")\n",
    "train_start_date, train_initials, train_Tend, train_df = train_dataset\n",
    "pprint([train_start_date.strftime(\"%d%b%Y\"), train_initials, train_Tend])\n",
    "print(train_df.tail())"
   ]
  },
  {
   "cell_type": "markdown",
   "metadata": {},
   "source": [
    "T - time elapsed since start\n",
    "tau - time resolution\n",
    "X - S\n",
    "Y - I\n",
    "Z - R\n",
    "\n",
    "N - population count\n",
    "\n",
    "beta - conntacts per minute rate\n",
    "gamma - recovered per minute rate\n",
    "\n",
    "R0 - how many people average infected can infect\n",
    "\n",
    "sigma - infected rate in tau resolution\n",
    "rho(p) - removed rate in tau resolution"
   ]
  },
  {
   "cell_type": "code",
   "execution_count": 13,
   "metadata": {},
   "outputs": [
    {
     "data": {
      "image/png": "[encoded data removed]",
      "text/plain": [
       "<Figure size 432x288 with 1 Axes>"
      ]
     },
     "metadata": {
      "needs_background": "light"
     },
     "output_type": "display_data"
    }
   ],
   "source": [
    "model.line_plot(\n",
    "    train_df.set_index(\"T\").drop(\"x\", axis=1),\n",
    "    \"Training data: y(T), z(T)\", math_scale=False, ylabel=\"\"\n",
    ")"
   ]
  },
  {
   "cell_type": "code",
   "execution_count": 14,
   "metadata": {},
   "outputs": [
    {
     "name": "stdout",
     "output_type": "stream",
     "text": [
      "       t         x         y         z\n",
      "196  196  0.106941  0.000167  0.892892\n",
      "197  197  0.106937  0.000157  0.892905\n",
      "198  198  0.106934  0.000148  0.892918\n",
      "199  199  0.106931  0.000140  0.892929\n",
      "200  200  0.106928  0.000132  0.892940\n"
     ]
    },
    {
     "data": {
      "image/png": "[encoded data removed]",
      "text/plain": [
       "<Figure size 432x288 with 1 Axes>"
      ]
     },
     "metadata": {
      "needs_background": "light"
     },
     "output_type": "display_data"
    }
   ],
   "source": [
    "#guessed r0 and rho\n",
    "eg_r0, eg_rho = (2.5, 0.2)\n",
    "eg_sigma = eg_rho / eg_r0\n",
    "eg_df = model.simulation(model.SIR, train_initials, step_n=200, rho=eg_rho, sigma=eg_sigma)\n",
    "\n",
    "print(eg_df.tail())\n",
    "\n",
    "model.line_plot(\n",
    "    eg_df.set_index(\"t\"),\n",
    "    title=r\"SIR: $R_0$={0} ($\\rho$={1}, $\\sigma$={2})\".format(eg_r0, eg_rho, eg_sigma),\n",
    "    ylabel=\"\",\n",
    "    h=1\n",
    ")"
   ]
  },
  {
   "cell_type": "code",
   "execution_count": 15,
   "metadata": {},
   "outputs": [],
   "source": [
    "#TODO: estimate which parameters are best\n",
    "# %%time\n",
    "sir_estimator = model.Estimator(\n",
    "    model.SIR, \n",
    "    ncov_df_ungrouped,\n",
    "    population_country,\n",
    "    name=critical_country, \n",
    "    places=[(critical_country, None)],\n",
    "    start_date=epidemic_start\n",
    ")\n",
    "sir_dict = sir_estimator.run(300)"
   ]
  },
  {
   "cell_type": "code",
   "execution_count": 16,
   "metadata": {},
   "outputs": [
    {
     "data": {
      "text/html": [
       "<div>\n",
       "<style scoped>\n",
       "    .dataframe tbody tr th:only-of-type {\n",
       "        vertical-align: middle;\n",
       "    }\n",
       "\n",
       "    .dataframe tbody tr th {\n",
       "        vertical-align: top;\n",
       "    }\n",
       "\n",
       "    .dataframe thead th {\n",
       "        text-align: right;\n",
       "    }\n",
       "</style>\n",
       "<table border=\"1\" class=\"dataframe\">\n",
       "  <thead>\n",
       "    <tr style=\"text-align: right;\">\n",
       "      <th></th>\n",
       "      <th>tau</th>\n",
       "      <th>rho</th>\n",
       "      <th>sigma</th>\n",
       "      <th>R0</th>\n",
       "      <th>score</th>\n",
       "      <th>1/beta [day]</th>\n",
       "      <th>1/gamma [day]</th>\n",
       "    </tr>\n",
       "  </thead>\n",
       "  <tbody>\n",
       "    <tr>\n",
       "      <th>SIR</th>\n",
       "      <td>211</td>\n",
       "      <td>0.006229</td>\n",
       "      <td>0.003784</td>\n",
       "      <td>1.65</td>\n",
       "      <td>0.00572</td>\n",
       "      <td>23</td>\n",
       "      <td>38</td>\n",
       "    </tr>\n",
       "  </tbody>\n",
       "</table>\n",
       "</div>"
      ],
      "text/plain": [
       "     tau       rho     sigma    R0    score  1/beta [day]  1/gamma [day]\n",
       "SIR  211  0.006229  0.003784  1.65  0.00572            23             38"
      ]
     },
     "execution_count": 16,
     "metadata": {},
     "output_type": "execute_result"
    }
   ],
   "source": [
    "pd.DataFrame.from_dict({\"SIR\": sir_dict}, orient=\"index\").fillna(\"-\")"
   ]
  },
  {
   "cell_type": "code",
   "execution_count": 17,
   "metadata": {},
   "outputs": [
    {
     "name": "stderr",
     "output_type": "stream",
     "text": [
      "../model/model.py:507: UserWarning:\n",
      "\n",
      "Matplotlib is currently using module://ipykernel.pylab.backend_inline, which is a non-GUI backend, so cannot show the figure.\n",
      "\n"
     ]
    },
    {
     "data": {
      "image/png": "[encoded data removed]",
      "text/plain": [
       "<Figure size 648x648 with 3 Axes>"
      ]
     },
     "metadata": {
      "needs_background": "light"
     },
     "output_type": "display_data"
    }
   ],
   "source": [
    "sir_estimator.compare_graph()"
   ]
  },
  {
   "cell_type": "code",
   "execution_count": 19,
   "metadata": {},
   "outputs": [
    {
     "data": {
      "image/png": "[encoded data removed]",
      "text/plain": [
       "<Figure size 432x288 with 1 Axes>"
      ]
     },
     "metadata": {
      "needs_background": "light"
     },
     "output_type": "display_data"
    }
   ],
   "source": [
    "sir_estimator.predict_graph(step_n=6000)"
   ]
  }
 ],
 "metadata": {
  "kernelspec": {
   "display_name": "Python 3",
   "language": "python",
   "name": "python3"
  },
  "language_info": {
   "codemirror_mode": {
    "name": "ipython",
    "version": 3
   },
   "file_extension": ".py",
   "mimetype": "text/x-python",
   "name": "python",
   "nbconvert_exporter": "python",
   "pygments_lexer": "ipython3",
   "version": "3.6.9"
  }
 },
 "nbformat": 4,
 "nbformat_minor": 4
}
